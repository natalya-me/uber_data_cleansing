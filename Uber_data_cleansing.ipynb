{
  "nbformat": 4,
  "nbformat_minor": 0,
  "metadata": {
    "colab": {
      "provenance": []
    },
    "kernelspec": {
      "name": "python3",
      "display_name": "Python 3"
    },
    "language_info": {
      "name": "python"
    }
  },
  "cells": [
    {
      "cell_type": "markdown",
      "source": [
        "Задача: очистить и подготовить данные из файла Uber.csv"
      ],
      "metadata": {
        "id": "E2bjuIOKUZci"
      }
    },
    {
      "cell_type": "code",
      "execution_count": null,
      "metadata": {
        "id": "YyWu_YrzUJY-"
      },
      "outputs": [],
      "source": [
        "import pandas as pd\n",
        "from numpy import nan\n",
        "import requests as rq\n",
        "import csv\n",
        "import re\n",
        "\n",
        "uber = pd.read_csv(\"/Uber.csv\")"
      ]
    },
    {
      "cell_type": "code",
      "source": [
        "# Функция для вывода некоторой информации о значениях в столбце (строкового типа)\n",
        "def print_column_value_info(table: pd.DataFrame, column: str):\n",
        "    print(f\"Число значений с учетом регистра: {table[column].unique().size}\")\n",
        "    print(f\"Число значений без учета регистра: {table[column].str.strip().str.lower().unique().size}\")\n",
        "    print(f\"Число NaN значений: {table[table[column].isna()][column].size}\")\n",
        "    print(f\"Число пустых значений: {table[table[column].str.strip() == ''][column].size}\")"
      ],
      "metadata": {
        "id": "23H2CBUhq2U3"
      },
      "execution_count": null,
      "outputs": []
    },
    {
      "cell_type": "markdown",
      "source": [
        "# Столбец Date"
      ],
      "metadata": {
        "id": "YSXplnOPTfvA"
      }
    },
    {
      "cell_type": "code",
      "source": [
        "# Проверка, есть ли незаполненные значения\n",
        "print_column_value_info(uber, \"Date\")"
      ],
      "metadata": {
        "colab": {
          "base_uri": "https://localhost:8080/"
        },
        "id": "CbALcmOmUTtz",
        "outputId": "fc6a6a56-bab2-4ed6-e57d-240d167eb18f"
      },
      "execution_count": null,
      "outputs": [
        {
          "output_type": "stream",
          "name": "stdout",
          "text": [
            "Число значений с учетом регистра: 92\n",
            "Число значений без учета регистра: 92\n",
            "Число NaN значений: 0\n",
            "Число пустых значений: 0\n"
          ]
        }
      ]
    },
    {
      "cell_type": "code",
      "source": [
        "# Все значения преобразуются к типу datetıme, значит, ничего менять не нужно\n",
        "pd.to_datetime(uber[\"Date\"])"
      ],
      "metadata": {
        "colab": {
          "base_uri": "https://localhost:8080/"
        },
        "collapsed": true,
        "id": "4cHfgSQVUxTk",
        "outputId": "67ed2f46-db60-4000-ce2e-36d5dd9ae509"
      },
      "execution_count": null,
      "outputs": [
        {
          "output_type": "execute_result",
          "data": {
            "text/plain": [
              "0        2014-07-06\n",
              "1        2014-07-04\n",
              "2        2014-07-05\n",
              "3        2014-07-06\n",
              "4        2014-07-05\n",
              "            ...    \n",
              "194987   2014-09-28\n",
              "194988   2014-09-28\n",
              "194989   2014-09-28\n",
              "194990   2014-09-28\n",
              "194991   2014-09-08\n",
              "Name: Date, Length: 194992, dtype: datetime64[ns]"
            ],
            "text/html": [
              "<div>\n",
              "<style scoped>\n",
              "    .dataframe tbody tr th:only-of-type {\n",
              "        vertical-align: middle;\n",
              "    }\n",
              "\n",
              "    .dataframe tbody tr th {\n",
              "        vertical-align: top;\n",
              "    }\n",
              "\n",
              "    .dataframe thead th {\n",
              "        text-align: right;\n",
              "    }\n",
              "</style>\n",
              "<table border=\"1\" class=\"dataframe\">\n",
              "  <thead>\n",
              "    <tr style=\"text-align: right;\">\n",
              "      <th></th>\n",
              "      <th>Date</th>\n",
              "    </tr>\n",
              "  </thead>\n",
              "  <tbody>\n",
              "    <tr>\n",
              "      <th>0</th>\n",
              "      <td>2014-07-06</td>\n",
              "    </tr>\n",
              "    <tr>\n",
              "      <th>1</th>\n",
              "      <td>2014-07-04</td>\n",
              "    </tr>\n",
              "    <tr>\n",
              "      <th>2</th>\n",
              "      <td>2014-07-05</td>\n",
              "    </tr>\n",
              "    <tr>\n",
              "      <th>3</th>\n",
              "      <td>2014-07-06</td>\n",
              "    </tr>\n",
              "    <tr>\n",
              "      <th>4</th>\n",
              "      <td>2014-07-05</td>\n",
              "    </tr>\n",
              "    <tr>\n",
              "      <th>...</th>\n",
              "      <td>...</td>\n",
              "    </tr>\n",
              "    <tr>\n",
              "      <th>194987</th>\n",
              "      <td>2014-09-28</td>\n",
              "    </tr>\n",
              "    <tr>\n",
              "      <th>194988</th>\n",
              "      <td>2014-09-28</td>\n",
              "    </tr>\n",
              "    <tr>\n",
              "      <th>194989</th>\n",
              "      <td>2014-09-28</td>\n",
              "    </tr>\n",
              "    <tr>\n",
              "      <th>194990</th>\n",
              "      <td>2014-09-28</td>\n",
              "    </tr>\n",
              "    <tr>\n",
              "      <th>194991</th>\n",
              "      <td>2014-09-08</td>\n",
              "    </tr>\n",
              "  </tbody>\n",
              "</table>\n",
              "<p>194992 rows × 1 columns</p>\n",
              "</div><br><label><b>dtype:</b> datetime64[ns]</label>"
            ]
          },
          "metadata": {},
          "execution_count": 614
        }
      ]
    },
    {
      "cell_type": "markdown",
      "source": [
        " # Столбец Time"
      ],
      "metadata": {
        "id": "ODiCX3S405WO"
      }
    },
    {
      "cell_type": "code",
      "source": [
        "# Проверка, есть ли в столбце пустые значения или значения, не соответствующие формату времени\n",
        "empty_count = uber[uber['Time'].isnull()].size\n",
        "wrong_format_count = uber.size - uber[uber['Time'].str.match('\\d\\d?:\\d\\d')].size\n",
        "print(f\"Число незаполненных ячеек: {empty_count}\")\n",
        "print(f\"Число ячеек, не соответствующих формату: {wrong_format_count}\")"
      ],
      "metadata": {
        "colab": {
          "base_uri": "https://localhost:8080/"
        },
        "collapsed": true,
        "id": "vD0u2tvh1oTt",
        "outputId": "3ec74230-f40f-4f4a-e49f-3e492e84d1b9"
      },
      "execution_count": null,
      "outputs": [
        {
          "output_type": "stream",
          "name": "stdout",
          "text": [
            "Число незаполненных ячеек: 0\n",
            "Число ячеек, не соответствующих формату: 0\n"
          ]
        }
      ]
    },
    {
      "cell_type": "code",
      "source": [
        "# Приведение столбца Time к float\n",
        "def string_timedelta_to_float(str_td: str):\n",
        "    ms = str_td.split(\":\")\n",
        "    min = int(ms[0])\n",
        "    sec = int(ms[1])\n",
        "    if sec != 0:\n",
        "        min += 60 / sec\n",
        "    return min\n",
        "\n",
        "uber[\"Time\"] = uber[\"Time\"].apply(lambda str_time: string_timedelta_to_float(str_time))"
      ],
      "metadata": {
        "id": "IKBwfpsPVOzH"
      },
      "execution_count": null,
      "outputs": []
    },
    {
      "cell_type": "markdown",
      "source": [
        "# Cтолбец PuFrom"
      ],
      "metadata": {
        "id": "HWPFGsz3Jgfb"
      }
    },
    {
      "cell_type": "code",
      "source": [
        "print_column_value_info(uber, \"PuFrom\")"
      ],
      "metadata": {
        "colab": {
          "base_uri": "https://localhost:8080/"
        },
        "id": "UsAJkFLfiB2X",
        "outputId": "fe4af92d-48bd-412b-abf8-d6bb056c66b0"
      },
      "execution_count": null,
      "outputs": [
        {
          "output_type": "stream",
          "name": "stdout",
          "text": [
            "Число значений с учетом регистра: 1265\n",
            "Число значений без учета регистра: 719\n",
            "Число NaN значений: 37030\n",
            "Число пустых значений: 305\n"
          ]
        }
      ]
    },
    {
      "cell_type": "code",
      "source": [
        "# Приведение столбца PuFrom к верхнему регистру\n",
        "uber[\"PuFrom\"] = uber[\"PuFrom\"].str.strip().str.upper()"
      ],
      "metadata": {
        "id": "zqgyCIehtHHB"
      },
      "execution_count": null,
      "outputs": []
    },
    {
      "cell_type": "code",
      "source": [
        "# Пустые значения (состоящие из пробелов) заменим на NaN для однородности\n",
        "uber.loc[uber[\"PuFrom\"].str.strip() == \"\",\"PuFrom\"] = nan"
      ],
      "metadata": {
        "id": "IHq_sQTcLg-W"
      },
      "execution_count": null,
      "outputs": []
    },
    {
      "cell_type": "code",
      "source": [
        "print_column_value_info(uber, \"PuFrom\")"
      ],
      "metadata": {
        "colab": {
          "base_uri": "https://localhost:8080/"
        },
        "id": "oqKeks26N13-",
        "outputId": "c236d6ee-65ad-45de-d359-b2bfcd28b837"
      },
      "execution_count": null,
      "outputs": [
        {
          "output_type": "stream",
          "name": "stdout",
          "text": [
            "Число значений с учетом регистра: 718\n",
            "Число значений без учета регистра: 718\n",
            "Число NaN значений: 37335\n",
            "Число пустых значений: 0\n"
          ]
        }
      ]
    },
    {
      "cell_type": "markdown",
      "source": [
        "# Cтолбец State"
      ],
      "metadata": {
        "id": "1SRaFp2VHzsn"
      }
    },
    {
      "cell_type": "code",
      "source": [
        "print_column_value_info(uber, \"State\")"
      ],
      "metadata": {
        "colab": {
          "base_uri": "https://localhost:8080/"
        },
        "id": "I6qOQPHHhMi8",
        "outputId": "ace19e35-e675-4960-9de9-f9f1dc08469a"
      },
      "execution_count": null,
      "outputs": [
        {
          "output_type": "stream",
          "name": "stdout",
          "text": [
            "Число значений с учетом регистра: 1001\n",
            "Число значений без учета регистра: 793\n",
            "Число NaN значений: 0\n",
            "Число пустых значений: 0\n"
          ]
        }
      ]
    },
    {
      "cell_type": "code",
      "source": [
        "# Приведение столбца State к верхнему регистру\n",
        "uber[\"State\"] = uber[\"State\"].str.strip().str.upper()"
      ],
      "metadata": {
        "id": "nEzKDPN5hdTj"
      },
      "execution_count": null,
      "outputs": []
    },
    {
      "cell_type": "code",
      "source": [
        "print_column_value_info(uber, \"State\")"
      ],
      "metadata": {
        "colab": {
          "base_uri": "https://localhost:8080/"
        },
        "id": "QmneIgl7NOY7",
        "outputId": "edb9d11a-ae6c-4a78-978d-3db3b2efb877"
      },
      "execution_count": null,
      "outputs": [
        {
          "output_type": "stream",
          "name": "stdout",
          "text": [
            "Число значений с учетом регистра: 793\n",
            "Число значений без учета регистра: 793\n",
            "Число NaN значений: 0\n",
            "Число пустых значений: 0\n"
          ]
        }
      ]
    },
    {
      "cell_type": "markdown",
      "source": [
        "Если State - это столбец для штата, то вариантов значений в нем многовато."
      ],
      "metadata": {
        "id": "I2m8-fRQZ93a"
      }
    },
    {
      "cell_type": "code",
      "source": [
        "uber[[\"State\", \"PuFrom\"]].tail(20)"
      ],
      "metadata": {
        "colab": {
          "base_uri": "https://localhost:8080/"
        },
        "collapsed": true,
        "id": "aPsFELEsWg69",
        "outputId": "a98aef44-14c0-4223-a830-981d0579d837"
      },
      "execution_count": null,
      "outputs": [
        {
          "output_type": "execute_result",
          "data": {
            "text/plain": [
              "                               State       PuFrom\n",
              "194972                            NY    MANHATTAN\n",
              "194973                            NJ  JERSEY CITY\n",
              "194974                            NY    MANHATTAN\n",
              "194975                            NY    MANHATTAN\n",
              "194976                            NY    MANHATTAN\n",
              "194977      LGA DELTA PICK-UP ISLAND          NaN\n",
              "194978    LGA WESTJET PICK-UP ISLAND          NaN\n",
              "194979     EWR UNITED TERM C  AREA 3          NaN\n",
              "194980    LGA JETBLUE PICK-UP ISLAND          NaN\n",
              "194981                            NY    MANHATTAN\n",
              "194982    LGA JETBLUE PICK-UP ISLAND          NaN\n",
              "194983                            NY     BROOKLYN\n",
              "194984     LGA US AIR PICK-UP ISLAND          NaN\n",
              "194985                            NY    MANHATTAN\n",
              "194986                            NJ    RIDGEWOOD\n",
              "194987  JFK DELTA TERM 4  P/U AREA C          JFK\n",
              "194988                            NY    MANHATTAN\n",
              "194989                            NY    MANHATTAN\n",
              "194990    JFK DELTA TERM 2  CURBSIDE          NaN\n",
              "194991                            NY    MANHATTAN"
            ],
            "text/html": [
              "\n",
              "  <div id=\"df-ea191549-261a-4ea1-ab47-57214835e4bf\" class=\"colab-df-container\">\n",
              "    <div>\n",
              "<style scoped>\n",
              "    .dataframe tbody tr th:only-of-type {\n",
              "        vertical-align: middle;\n",
              "    }\n",
              "\n",
              "    .dataframe tbody tr th {\n",
              "        vertical-align: top;\n",
              "    }\n",
              "\n",
              "    .dataframe thead th {\n",
              "        text-align: right;\n",
              "    }\n",
              "</style>\n",
              "<table border=\"1\" class=\"dataframe\">\n",
              "  <thead>\n",
              "    <tr style=\"text-align: right;\">\n",
              "      <th></th>\n",
              "      <th>State</th>\n",
              "      <th>PuFrom</th>\n",
              "    </tr>\n",
              "  </thead>\n",
              "  <tbody>\n",
              "    <tr>\n",
              "      <th>194972</th>\n",
              "      <td>NY</td>\n",
              "      <td>MANHATTAN</td>\n",
              "    </tr>\n",
              "    <tr>\n",
              "      <th>194973</th>\n",
              "      <td>NJ</td>\n",
              "      <td>JERSEY CITY</td>\n",
              "    </tr>\n",
              "    <tr>\n",
              "      <th>194974</th>\n",
              "      <td>NY</td>\n",
              "      <td>MANHATTAN</td>\n",
              "    </tr>\n",
              "    <tr>\n",
              "      <th>194975</th>\n",
              "      <td>NY</td>\n",
              "      <td>MANHATTAN</td>\n",
              "    </tr>\n",
              "    <tr>\n",
              "      <th>194976</th>\n",
              "      <td>NY</td>\n",
              "      <td>MANHATTAN</td>\n",
              "    </tr>\n",
              "    <tr>\n",
              "      <th>194977</th>\n",
              "      <td>LGA DELTA PICK-UP ISLAND</td>\n",
              "      <td>NaN</td>\n",
              "    </tr>\n",
              "    <tr>\n",
              "      <th>194978</th>\n",
              "      <td>LGA WESTJET PICK-UP ISLAND</td>\n",
              "      <td>NaN</td>\n",
              "    </tr>\n",
              "    <tr>\n",
              "      <th>194979</th>\n",
              "      <td>EWR UNITED TERM C  AREA 3</td>\n",
              "      <td>NaN</td>\n",
              "    </tr>\n",
              "    <tr>\n",
              "      <th>194980</th>\n",
              "      <td>LGA JETBLUE PICK-UP ISLAND</td>\n",
              "      <td>NaN</td>\n",
              "    </tr>\n",
              "    <tr>\n",
              "      <th>194981</th>\n",
              "      <td>NY</td>\n",
              "      <td>MANHATTAN</td>\n",
              "    </tr>\n",
              "    <tr>\n",
              "      <th>194982</th>\n",
              "      <td>LGA JETBLUE PICK-UP ISLAND</td>\n",
              "      <td>NaN</td>\n",
              "    </tr>\n",
              "    <tr>\n",
              "      <th>194983</th>\n",
              "      <td>NY</td>\n",
              "      <td>BROOKLYN</td>\n",
              "    </tr>\n",
              "    <tr>\n",
              "      <th>194984</th>\n",
              "      <td>LGA US AIR PICK-UP ISLAND</td>\n",
              "      <td>NaN</td>\n",
              "    </tr>\n",
              "    <tr>\n",
              "      <th>194985</th>\n",
              "      <td>NY</td>\n",
              "      <td>MANHATTAN</td>\n",
              "    </tr>\n",
              "    <tr>\n",
              "      <th>194986</th>\n",
              "      <td>NJ</td>\n",
              "      <td>RIDGEWOOD</td>\n",
              "    </tr>\n",
              "    <tr>\n",
              "      <th>194987</th>\n",
              "      <td>JFK DELTA TERM 4  P/U AREA C</td>\n",
              "      <td>JFK</td>\n",
              "    </tr>\n",
              "    <tr>\n",
              "      <th>194988</th>\n",
              "      <td>NY</td>\n",
              "      <td>MANHATTAN</td>\n",
              "    </tr>\n",
              "    <tr>\n",
              "      <th>194989</th>\n",
              "      <td>NY</td>\n",
              "      <td>MANHATTAN</td>\n",
              "    </tr>\n",
              "    <tr>\n",
              "      <th>194990</th>\n",
              "      <td>JFK DELTA TERM 2  CURBSIDE</td>\n",
              "      <td>NaN</td>\n",
              "    </tr>\n",
              "    <tr>\n",
              "      <th>194991</th>\n",
              "      <td>NY</td>\n",
              "      <td>MANHATTAN</td>\n",
              "    </tr>\n",
              "  </tbody>\n",
              "</table>\n",
              "</div>\n",
              "    <div class=\"colab-df-buttons\">\n",
              "\n",
              "  <div class=\"colab-df-container\">\n",
              "    <button class=\"colab-df-convert\" onclick=\"convertToInteractive('df-ea191549-261a-4ea1-ab47-57214835e4bf')\"\n",
              "            title=\"Convert this dataframe to an interactive table.\"\n",
              "            style=\"display:none;\">\n",
              "\n",
              "  <svg xmlns=\"http://www.w3.org/2000/svg\" height=\"24px\" viewBox=\"0 -960 960 960\">\n",
              "    <path d=\"M120-120v-720h720v720H120Zm60-500h600v-160H180v160Zm220 220h160v-160H400v160Zm0 220h160v-160H400v160ZM180-400h160v-160H180v160Zm440 0h160v-160H620v160ZM180-180h160v-160H180v160Zm440 0h160v-160H620v160Z\"/>\n",
              "  </svg>\n",
              "    </button>\n",
              "\n",
              "  <style>\n",
              "    .colab-df-container {\n",
              "      display:flex;\n",
              "      gap: 12px;\n",
              "    }\n",
              "\n",
              "    .colab-df-convert {\n",
              "      background-color: #E8F0FE;\n",
              "      border: none;\n",
              "      border-radius: 50%;\n",
              "      cursor: pointer;\n",
              "      display: none;\n",
              "      fill: #1967D2;\n",
              "      height: 32px;\n",
              "      padding: 0 0 0 0;\n",
              "      width: 32px;\n",
              "    }\n",
              "\n",
              "    .colab-df-convert:hover {\n",
              "      background-color: #E2EBFA;\n",
              "      box-shadow: 0px 1px 2px rgba(60, 64, 67, 0.3), 0px 1px 3px 1px rgba(60, 64, 67, 0.15);\n",
              "      fill: #174EA6;\n",
              "    }\n",
              "\n",
              "    .colab-df-buttons div {\n",
              "      margin-bottom: 4px;\n",
              "    }\n",
              "\n",
              "    [theme=dark] .colab-df-convert {\n",
              "      background-color: #3B4455;\n",
              "      fill: #D2E3FC;\n",
              "    }\n",
              "\n",
              "    [theme=dark] .colab-df-convert:hover {\n",
              "      background-color: #434B5C;\n",
              "      box-shadow: 0px 1px 3px 1px rgba(0, 0, 0, 0.15);\n",
              "      filter: drop-shadow(0px 1px 2px rgba(0, 0, 0, 0.3));\n",
              "      fill: #FFFFFF;\n",
              "    }\n",
              "  </style>\n",
              "\n",
              "    <script>\n",
              "      const buttonEl =\n",
              "        document.querySelector('#df-ea191549-261a-4ea1-ab47-57214835e4bf button.colab-df-convert');\n",
              "      buttonEl.style.display =\n",
              "        google.colab.kernel.accessAllowed ? 'block' : 'none';\n",
              "\n",
              "      async function convertToInteractive(key) {\n",
              "        const element = document.querySelector('#df-ea191549-261a-4ea1-ab47-57214835e4bf');\n",
              "        const dataTable =\n",
              "          await google.colab.kernel.invokeFunction('convertToInteractive',\n",
              "                                                    [key], {});\n",
              "        if (!dataTable) return;\n",
              "\n",
              "        const docLinkHtml = 'Like what you see? Visit the ' +\n",
              "          '<a target=\"_blank\" href=https://colab.research.google.com/notebooks/data_table.ipynb>data table notebook</a>'\n",
              "          + ' to learn more about interactive tables.';\n",
              "        element.innerHTML = '';\n",
              "        dataTable['output_type'] = 'display_data';\n",
              "        await google.colab.output.renderOutput(dataTable, element);\n",
              "        const docLink = document.createElement('div');\n",
              "        docLink.innerHTML = docLinkHtml;\n",
              "        element.appendChild(docLink);\n",
              "      }\n",
              "    </script>\n",
              "  </div>\n",
              "\n",
              "\n",
              "<div id=\"df-6b19c937-b973-4f8e-a8d4-8d6427d9c735\">\n",
              "  <button class=\"colab-df-quickchart\" onclick=\"quickchart('df-6b19c937-b973-4f8e-a8d4-8d6427d9c735')\"\n",
              "            title=\"Suggest charts\"\n",
              "            style=\"display:none;\">\n",
              "\n",
              "<svg xmlns=\"http://www.w3.org/2000/svg\" height=\"24px\"viewBox=\"0 0 24 24\"\n",
              "     width=\"24px\">\n",
              "    <g>\n",
              "        <path d=\"M19 3H5c-1.1 0-2 .9-2 2v14c0 1.1.9 2 2 2h14c1.1 0 2-.9 2-2V5c0-1.1-.9-2-2-2zM9 17H7v-7h2v7zm4 0h-2V7h2v10zm4 0h-2v-4h2v4z\"/>\n",
              "    </g>\n",
              "</svg>\n",
              "  </button>\n",
              "\n",
              "<style>\n",
              "  .colab-df-quickchart {\n",
              "      --bg-color: #E8F0FE;\n",
              "      --fill-color: #1967D2;\n",
              "      --hover-bg-color: #E2EBFA;\n",
              "      --hover-fill-color: #174EA6;\n",
              "      --disabled-fill-color: #AAA;\n",
              "      --disabled-bg-color: #DDD;\n",
              "  }\n",
              "\n",
              "  [theme=dark] .colab-df-quickchart {\n",
              "      --bg-color: #3B4455;\n",
              "      --fill-color: #D2E3FC;\n",
              "      --hover-bg-color: #434B5C;\n",
              "      --hover-fill-color: #FFFFFF;\n",
              "      --disabled-bg-color: #3B4455;\n",
              "      --disabled-fill-color: #666;\n",
              "  }\n",
              "\n",
              "  .colab-df-quickchart {\n",
              "    background-color: var(--bg-color);\n",
              "    border: none;\n",
              "    border-radius: 50%;\n",
              "    cursor: pointer;\n",
              "    display: none;\n",
              "    fill: var(--fill-color);\n",
              "    height: 32px;\n",
              "    padding: 0;\n",
              "    width: 32px;\n",
              "  }\n",
              "\n",
              "  .colab-df-quickchart:hover {\n",
              "    background-color: var(--hover-bg-color);\n",
              "    box-shadow: 0 1px 2px rgba(60, 64, 67, 0.3), 0 1px 3px 1px rgba(60, 64, 67, 0.15);\n",
              "    fill: var(--button-hover-fill-color);\n",
              "  }\n",
              "\n",
              "  .colab-df-quickchart-complete:disabled,\n",
              "  .colab-df-quickchart-complete:disabled:hover {\n",
              "    background-color: var(--disabled-bg-color);\n",
              "    fill: var(--disabled-fill-color);\n",
              "    box-shadow: none;\n",
              "  }\n",
              "\n",
              "  .colab-df-spinner {\n",
              "    border: 2px solid var(--fill-color);\n",
              "    border-color: transparent;\n",
              "    border-bottom-color: var(--fill-color);\n",
              "    animation:\n",
              "      spin 1s steps(1) infinite;\n",
              "  }\n",
              "\n",
              "  @keyframes spin {\n",
              "    0% {\n",
              "      border-color: transparent;\n",
              "      border-bottom-color: var(--fill-color);\n",
              "      border-left-color: var(--fill-color);\n",
              "    }\n",
              "    20% {\n",
              "      border-color: transparent;\n",
              "      border-left-color: var(--fill-color);\n",
              "      border-top-color: var(--fill-color);\n",
              "    }\n",
              "    30% {\n",
              "      border-color: transparent;\n",
              "      border-left-color: var(--fill-color);\n",
              "      border-top-color: var(--fill-color);\n",
              "      border-right-color: var(--fill-color);\n",
              "    }\n",
              "    40% {\n",
              "      border-color: transparent;\n",
              "      border-right-color: var(--fill-color);\n",
              "      border-top-color: var(--fill-color);\n",
              "    }\n",
              "    60% {\n",
              "      border-color: transparent;\n",
              "      border-right-color: var(--fill-color);\n",
              "    }\n",
              "    80% {\n",
              "      border-color: transparent;\n",
              "      border-right-color: var(--fill-color);\n",
              "      border-bottom-color: var(--fill-color);\n",
              "    }\n",
              "    90% {\n",
              "      border-color: transparent;\n",
              "      border-bottom-color: var(--fill-color);\n",
              "    }\n",
              "  }\n",
              "</style>\n",
              "\n",
              "  <script>\n",
              "    async function quickchart(key) {\n",
              "      const quickchartButtonEl =\n",
              "        document.querySelector('#' + key + ' button');\n",
              "      quickchartButtonEl.disabled = true;  // To prevent multiple clicks.\n",
              "      quickchartButtonEl.classList.add('colab-df-spinner');\n",
              "      try {\n",
              "        const charts = await google.colab.kernel.invokeFunction(\n",
              "            'suggestCharts', [key], {});\n",
              "      } catch (error) {\n",
              "        console.error('Error during call to suggestCharts:', error);\n",
              "      }\n",
              "      quickchartButtonEl.classList.remove('colab-df-spinner');\n",
              "      quickchartButtonEl.classList.add('colab-df-quickchart-complete');\n",
              "    }\n",
              "    (() => {\n",
              "      let quickchartButtonEl =\n",
              "        document.querySelector('#df-6b19c937-b973-4f8e-a8d4-8d6427d9c735 button');\n",
              "      quickchartButtonEl.style.display =\n",
              "        google.colab.kernel.accessAllowed ? 'block' : 'none';\n",
              "    })();\n",
              "  </script>\n",
              "</div>\n",
              "    </div>\n",
              "  </div>\n"
            ],
            "application/vnd.google.colaboratory.intrinsic+json": {
              "type": "dataframe",
              "summary": "{\n  \"name\": \"uber[[\\\"State\\\", \\\"PuFrom\\\"]]\",\n  \"rows\": 20,\n  \"fields\": [\n    {\n      \"column\": \"State\",\n      \"properties\": {\n        \"dtype\": \"category\",\n        \"num_unique_values\": 9,\n        \"samples\": [\n          \"JFK DELTA TERM 4  P/U AREA C\",\n          \"NJ\",\n          \"LGA JETBLUE PICK-UP ISLAND\"\n        ],\n        \"semantic_type\": \"\",\n        \"description\": \"\"\n      }\n    },\n    {\n      \"column\": \"PuFrom\",\n      \"properties\": {\n        \"dtype\": \"category\",\n        \"num_unique_values\": 5,\n        \"samples\": [\n          \"JERSEY CITY\",\n          \"JFK\",\n          \"BROOKLYN\"\n        ],\n        \"semantic_type\": \"\",\n        \"description\": \"\"\n      }\n    }\n  ]\n}"
            }
          },
          "metadata": {},
          "execution_count": 624
        }
      ]
    },
    {
      "cell_type": "markdown",
      "source": [
        "Судя по тому, как выглядят некоторые значения, им следует быть в столбце PuFrom (pick up from), который в этом случае обычно как раз не заполнен."
      ],
      "metadata": {
        "id": "IFARmYYgZ6QW"
      }
    },
    {
      "cell_type": "code",
      "source": [
        "# Первые 3 символа State, когда PuFrom пуст\n",
        "uber[uber[\"PuFrom\"].isna()][\"State\"].str[0:3].value_counts()"
      ],
      "metadata": {
        "colab": {
          "base_uri": "https://localhost:8080/"
        },
        "id": "Vs_c5BVzYS44",
        "outputId": "34987438-e6e0-4d00-fd42-d104b50ed966"
      },
      "execution_count": null,
      "outputs": [
        {
          "output_type": "execute_result",
          "data": {
            "text/plain": [
              "State\n",
              "JFK    15465\n",
              "LGA    13684\n",
              "EWR     8060\n",
              "HPN       62\n",
              "TEB       56\n",
              "M          7\n",
              "ISP        1\n",
              "Name: count, dtype: int64"
            ],
            "text/html": [
              "<div>\n",
              "<style scoped>\n",
              "    .dataframe tbody tr th:only-of-type {\n",
              "        vertical-align: middle;\n",
              "    }\n",
              "\n",
              "    .dataframe tbody tr th {\n",
              "        vertical-align: top;\n",
              "    }\n",
              "\n",
              "    .dataframe thead th {\n",
              "        text-align: right;\n",
              "    }\n",
              "</style>\n",
              "<table border=\"1\" class=\"dataframe\">\n",
              "  <thead>\n",
              "    <tr style=\"text-align: right;\">\n",
              "      <th></th>\n",
              "      <th>count</th>\n",
              "    </tr>\n",
              "    <tr>\n",
              "      <th>State</th>\n",
              "      <th></th>\n",
              "    </tr>\n",
              "  </thead>\n",
              "  <tbody>\n",
              "    <tr>\n",
              "      <th>JFK</th>\n",
              "      <td>15465</td>\n",
              "    </tr>\n",
              "    <tr>\n",
              "      <th>LGA</th>\n",
              "      <td>13684</td>\n",
              "    </tr>\n",
              "    <tr>\n",
              "      <th>EWR</th>\n",
              "      <td>8060</td>\n",
              "    </tr>\n",
              "    <tr>\n",
              "      <th>HPN</th>\n",
              "      <td>62</td>\n",
              "    </tr>\n",
              "    <tr>\n",
              "      <th>TEB</th>\n",
              "      <td>56</td>\n",
              "    </tr>\n",
              "    <tr>\n",
              "      <th>M</th>\n",
              "      <td>7</td>\n",
              "    </tr>\n",
              "    <tr>\n",
              "      <th>ISP</th>\n",
              "      <td>1</td>\n",
              "    </tr>\n",
              "  </tbody>\n",
              "</table>\n",
              "</div><br><label><b>dtype:</b> int64</label>"
            ]
          },
          "metadata": {},
          "execution_count": 625
        }
      ]
    },
    {
      "cell_type": "markdown",
      "source": [
        "Первые пять значений в таблице выше - международные обозначения аэропортов в США. Мне кажется правильным переместить эти значения в столбец PuFrom, а State указать название штата, в котором находится аэропорт.\n",
        "\n",
        "В таблице нет строк, которые начинаются на эти сочетания букв и не относятся к аэропортам."
      ],
      "metadata": {
        "id": "LuFZ4oKBegNY"
      }
    },
    {
      "cell_type": "code",
      "source": [
        "ap_code_state = {\n",
        "    \"JFK\": \"NY\",\n",
        "    \"LGA\": \"NY\",\n",
        "    \"EWR\": \"NJ\",\n",
        "    \"HPN\": \"NY\",\n",
        "    \"TEB\": \"NJ\"\n",
        "}"
      ],
      "metadata": {
        "id": "AQ2dnGO0kQ-N"
      },
      "execution_count": null,
      "outputs": []
    },
    {
      "cell_type": "code",
      "source": [
        "# Значения столбца PuFrom, когда в State содержится информация об аэропорте\n",
        "# Убедимся, что не потеряем важную информацию при изменении столбцов\n",
        "uber[uber[\"State\"].str[0:3].isin(ap_code_state.keys())][\"PuFrom\"].unique()"
      ],
      "metadata": {
        "colab": {
          "base_uri": "https://localhost:8080/"
        },
        "id": "WT2HTMiMeARR",
        "outputId": "2ca46809-c795-4dc3-96a9-46bd8303151e"
      },
      "execution_count": null,
      "outputs": [
        {
          "output_type": "execute_result",
          "data": {
            "text/plain": [
              "array(['EWR', nan, 'JFK', 'LGA', 'NWK', 'LAG', 'MANHATTAN', 'UN',\n",
              "       'WHIPPLEVILLE', 'TETERBORO'], dtype=object)"
            ]
          },
          "metadata": {},
          "execution_count": 627
        }
      ]
    },
    {
      "cell_type": "code",
      "source": [
        "# Выполнение преобразований\n",
        "rows_to_change = uber[uber[\"State\"].str[0:3].isin(ap_code_state.keys())]\n",
        "uber.loc[rows_to_change.index, \"PuFrom\"] = rows_to_change[\"State\"]\n",
        "uber.loc[rows_to_change.index, \"State\"] = rows_to_change[\"State\"].str[0:3].replace(ap_code_state)"
      ],
      "metadata": {
        "id": "8T-Hnd00oJve"
      },
      "execution_count": null,
      "outputs": []
    },
    {
      "cell_type": "code",
      "source": [
        "# Проверим, как преобразования отразились на значениях в столбцах\n",
        "print_column_value_info(uber, \"PuFrom\")"
      ],
      "metadata": {
        "colab": {
          "base_uri": "https://localhost:8080/"
        },
        "id": "HRbwLB7bsFAk",
        "outputId": "19e1e2ef-4e0d-49cb-ca77-c6074a3ab45e"
      },
      "execution_count": null,
      "outputs": [
        {
          "output_type": "stream",
          "name": "stdout",
          "text": [
            "Число значений с учетом регистра: 1494\n",
            "Число значений без учета регистра: 1494\n",
            "Число NaN значений: 8\n",
            "Число пустых значений: 0\n"
          ]
        }
      ]
    },
    {
      "cell_type": "code",
      "source": [
        "print_column_value_info(uber, \"State\")"
      ],
      "metadata": {
        "colab": {
          "base_uri": "https://localhost:8080/"
        },
        "id": "7-EcLyents-_",
        "outputId": "907e4b87-3e9f-416c-9811-e8f6a4831ee9"
      },
      "execution_count": null,
      "outputs": [
        {
          "output_type": "stream",
          "name": "stdout",
          "text": [
            "Число значений с учетом регистра: 10\n",
            "Число значений без учета регистра: 10\n",
            "Число NaN значений: 0\n",
            "Число пустых значений: 0\n"
          ]
        }
      ]
    },
    {
      "cell_type": "code",
      "source": [
        "uber[\"State\"].unique()"
      ],
      "metadata": {
        "colab": {
          "base_uri": "https://localhost:8080/"
        },
        "id": "3cjjDNOGt7Q7",
        "outputId": "84b55354-138e-4adc-a663-09931c80fb45"
      },
      "execution_count": null,
      "outputs": [
        {
          "output_type": "execute_result",
          "data": {
            "text/plain": [
              "array(['NY', 'NJ', 'CT', 'PA', 'RI', 'M', 'ISP', 'VA', 'DC', 'MA'],\n",
              "      dtype=object)"
            ]
          },
          "metadata": {},
          "execution_count": 631
        }
      ]
    },
    {
      "cell_type": "code",
      "source": [
        "# Нет таких названий штатов, которые сокращаются как M или ISP\n",
        "# Возможно, такие строки нужно удалить или отредактировать\n",
        "uber[uber[\"State\"].isin([\"M\", \"ISP\"])]"
      ],
      "metadata": {
        "colab": {
          "base_uri": "https://localhost:8080/"
        },
        "id": "2HlivybnuHrf",
        "outputId": "6afd8fc4-69c1-4a23-b43d-531cfb56af09"
      },
      "execution_count": null,
      "outputs": [
        {
          "output_type": "execute_result",
          "data": {
            "text/plain": [
              "              Date       Time State PuFrom Address                Street\n",
              "16422   2014.08.12   7.333333     M    NaN      45  WALL ST             \n",
              "36078   2014.07.31  12.000000     M    NaN     145  W 45 ST             \n",
              "41371   2014.07.28  16.000000     M    NaN    1965  BROADWAY            \n",
              "42270   2014.07.22   9.000000     M    NaN     541  LEXINGTON AVE       \n",
              "43726   2014.09.30  16.000000     M    NaN     450  W 33 ST             \n",
              "83754   2014.09.23  21.000000   ISP    NaN                              \n",
              "107578  2014.07.26  16.000000     M    NaN     118  W 13 ST             \n",
              "168746  2014.08.21  18.000000     M    NaN     320  W 66 ST             "
            ],
            "text/html": [
              "\n",
              "  <div id=\"df-f74ef78d-e03f-4573-82c9-cf9ab758b0ec\" class=\"colab-df-container\">\n",
              "    <div>\n",
              "<style scoped>\n",
              "    .dataframe tbody tr th:only-of-type {\n",
              "        vertical-align: middle;\n",
              "    }\n",
              "\n",
              "    .dataframe tbody tr th {\n",
              "        vertical-align: top;\n",
              "    }\n",
              "\n",
              "    .dataframe thead th {\n",
              "        text-align: right;\n",
              "    }\n",
              "</style>\n",
              "<table border=\"1\" class=\"dataframe\">\n",
              "  <thead>\n",
              "    <tr style=\"text-align: right;\">\n",
              "      <th></th>\n",
              "      <th>Date</th>\n",
              "      <th>Time</th>\n",
              "      <th>State</th>\n",
              "      <th>PuFrom</th>\n",
              "      <th>Address</th>\n",
              "      <th>Street</th>\n",
              "    </tr>\n",
              "  </thead>\n",
              "  <tbody>\n",
              "    <tr>\n",
              "      <th>16422</th>\n",
              "      <td>2014.08.12</td>\n",
              "      <td>7.333333</td>\n",
              "      <td>M</td>\n",
              "      <td>NaN</td>\n",
              "      <td>45</td>\n",
              "      <td>WALL ST</td>\n",
              "    </tr>\n",
              "    <tr>\n",
              "      <th>36078</th>\n",
              "      <td>2014.07.31</td>\n",
              "      <td>12.000000</td>\n",
              "      <td>M</td>\n",
              "      <td>NaN</td>\n",
              "      <td>145</td>\n",
              "      <td>W 45 ST</td>\n",
              "    </tr>\n",
              "    <tr>\n",
              "      <th>41371</th>\n",
              "      <td>2014.07.28</td>\n",
              "      <td>16.000000</td>\n",
              "      <td>M</td>\n",
              "      <td>NaN</td>\n",
              "      <td>1965</td>\n",
              "      <td>BROADWAY</td>\n",
              "    </tr>\n",
              "    <tr>\n",
              "      <th>42270</th>\n",
              "      <td>2014.07.22</td>\n",
              "      <td>9.000000</td>\n",
              "      <td>M</td>\n",
              "      <td>NaN</td>\n",
              "      <td>541</td>\n",
              "      <td>LEXINGTON AVE</td>\n",
              "    </tr>\n",
              "    <tr>\n",
              "      <th>43726</th>\n",
              "      <td>2014.09.30</td>\n",
              "      <td>16.000000</td>\n",
              "      <td>M</td>\n",
              "      <td>NaN</td>\n",
              "      <td>450</td>\n",
              "      <td>W 33 ST</td>\n",
              "    </tr>\n",
              "    <tr>\n",
              "      <th>83754</th>\n",
              "      <td>2014.09.23</td>\n",
              "      <td>21.000000</td>\n",
              "      <td>ISP</td>\n",
              "      <td>NaN</td>\n",
              "      <td></td>\n",
              "      <td></td>\n",
              "    </tr>\n",
              "    <tr>\n",
              "      <th>107578</th>\n",
              "      <td>2014.07.26</td>\n",
              "      <td>16.000000</td>\n",
              "      <td>M</td>\n",
              "      <td>NaN</td>\n",
              "      <td>118</td>\n",
              "      <td>W 13 ST</td>\n",
              "    </tr>\n",
              "    <tr>\n",
              "      <th>168746</th>\n",
              "      <td>2014.08.21</td>\n",
              "      <td>18.000000</td>\n",
              "      <td>M</td>\n",
              "      <td>NaN</td>\n",
              "      <td>320</td>\n",
              "      <td>W 66 ST</td>\n",
              "    </tr>\n",
              "  </tbody>\n",
              "</table>\n",
              "</div>\n",
              "    <div class=\"colab-df-buttons\">\n",
              "\n",
              "  <div class=\"colab-df-container\">\n",
              "    <button class=\"colab-df-convert\" onclick=\"convertToInteractive('df-f74ef78d-e03f-4573-82c9-cf9ab758b0ec')\"\n",
              "            title=\"Convert this dataframe to an interactive table.\"\n",
              "            style=\"display:none;\">\n",
              "\n",
              "  <svg xmlns=\"http://www.w3.org/2000/svg\" height=\"24px\" viewBox=\"0 -960 960 960\">\n",
              "    <path d=\"M120-120v-720h720v720H120Zm60-500h600v-160H180v160Zm220 220h160v-160H400v160Zm0 220h160v-160H400v160ZM180-400h160v-160H180v160Zm440 0h160v-160H620v160ZM180-180h160v-160H180v160Zm440 0h160v-160H620v160Z\"/>\n",
              "  </svg>\n",
              "    </button>\n",
              "\n",
              "  <style>\n",
              "    .colab-df-container {\n",
              "      display:flex;\n",
              "      gap: 12px;\n",
              "    }\n",
              "\n",
              "    .colab-df-convert {\n",
              "      background-color: #E8F0FE;\n",
              "      border: none;\n",
              "      border-radius: 50%;\n",
              "      cursor: pointer;\n",
              "      display: none;\n",
              "      fill: #1967D2;\n",
              "      height: 32px;\n",
              "      padding: 0 0 0 0;\n",
              "      width: 32px;\n",
              "    }\n",
              "\n",
              "    .colab-df-convert:hover {\n",
              "      background-color: #E2EBFA;\n",
              "      box-shadow: 0px 1px 2px rgba(60, 64, 67, 0.3), 0px 1px 3px 1px rgba(60, 64, 67, 0.15);\n",
              "      fill: #174EA6;\n",
              "    }\n",
              "\n",
              "    .colab-df-buttons div {\n",
              "      margin-bottom: 4px;\n",
              "    }\n",
              "\n",
              "    [theme=dark] .colab-df-convert {\n",
              "      background-color: #3B4455;\n",
              "      fill: #D2E3FC;\n",
              "    }\n",
              "\n",
              "    [theme=dark] .colab-df-convert:hover {\n",
              "      background-color: #434B5C;\n",
              "      box-shadow: 0px 1px 3px 1px rgba(0, 0, 0, 0.15);\n",
              "      filter: drop-shadow(0px 1px 2px rgba(0, 0, 0, 0.3));\n",
              "      fill: #FFFFFF;\n",
              "    }\n",
              "  </style>\n",
              "\n",
              "    <script>\n",
              "      const buttonEl =\n",
              "        document.querySelector('#df-f74ef78d-e03f-4573-82c9-cf9ab758b0ec button.colab-df-convert');\n",
              "      buttonEl.style.display =\n",
              "        google.colab.kernel.accessAllowed ? 'block' : 'none';\n",
              "\n",
              "      async function convertToInteractive(key) {\n",
              "        const element = document.querySelector('#df-f74ef78d-e03f-4573-82c9-cf9ab758b0ec');\n",
              "        const dataTable =\n",
              "          await google.colab.kernel.invokeFunction('convertToInteractive',\n",
              "                                                    [key], {});\n",
              "        if (!dataTable) return;\n",
              "\n",
              "        const docLinkHtml = 'Like what you see? Visit the ' +\n",
              "          '<a target=\"_blank\" href=https://colab.research.google.com/notebooks/data_table.ipynb>data table notebook</a>'\n",
              "          + ' to learn more about interactive tables.';\n",
              "        element.innerHTML = '';\n",
              "        dataTable['output_type'] = 'display_data';\n",
              "        await google.colab.output.renderOutput(dataTable, element);\n",
              "        const docLink = document.createElement('div');\n",
              "        docLink.innerHTML = docLinkHtml;\n",
              "        element.appendChild(docLink);\n",
              "      }\n",
              "    </script>\n",
              "  </div>\n",
              "\n",
              "\n",
              "<div id=\"df-07a15a1c-96bf-4202-a225-0d8d6d3a446a\">\n",
              "  <button class=\"colab-df-quickchart\" onclick=\"quickchart('df-07a15a1c-96bf-4202-a225-0d8d6d3a446a')\"\n",
              "            title=\"Suggest charts\"\n",
              "            style=\"display:none;\">\n",
              "\n",
              "<svg xmlns=\"http://www.w3.org/2000/svg\" height=\"24px\"viewBox=\"0 0 24 24\"\n",
              "     width=\"24px\">\n",
              "    <g>\n",
              "        <path d=\"M19 3H5c-1.1 0-2 .9-2 2v14c0 1.1.9 2 2 2h14c1.1 0 2-.9 2-2V5c0-1.1-.9-2-2-2zM9 17H7v-7h2v7zm4 0h-2V7h2v10zm4 0h-2v-4h2v4z\"/>\n",
              "    </g>\n",
              "</svg>\n",
              "  </button>\n",
              "\n",
              "<style>\n",
              "  .colab-df-quickchart {\n",
              "      --bg-color: #E8F0FE;\n",
              "      --fill-color: #1967D2;\n",
              "      --hover-bg-color: #E2EBFA;\n",
              "      --hover-fill-color: #174EA6;\n",
              "      --disabled-fill-color: #AAA;\n",
              "      --disabled-bg-color: #DDD;\n",
              "  }\n",
              "\n",
              "  [theme=dark] .colab-df-quickchart {\n",
              "      --bg-color: #3B4455;\n",
              "      --fill-color: #D2E3FC;\n",
              "      --hover-bg-color: #434B5C;\n",
              "      --hover-fill-color: #FFFFFF;\n",
              "      --disabled-bg-color: #3B4455;\n",
              "      --disabled-fill-color: #666;\n",
              "  }\n",
              "\n",
              "  .colab-df-quickchart {\n",
              "    background-color: var(--bg-color);\n",
              "    border: none;\n",
              "    border-radius: 50%;\n",
              "    cursor: pointer;\n",
              "    display: none;\n",
              "    fill: var(--fill-color);\n",
              "    height: 32px;\n",
              "    padding: 0;\n",
              "    width: 32px;\n",
              "  }\n",
              "\n",
              "  .colab-df-quickchart:hover {\n",
              "    background-color: var(--hover-bg-color);\n",
              "    box-shadow: 0 1px 2px rgba(60, 64, 67, 0.3), 0 1px 3px 1px rgba(60, 64, 67, 0.15);\n",
              "    fill: var(--button-hover-fill-color);\n",
              "  }\n",
              "\n",
              "  .colab-df-quickchart-complete:disabled,\n",
              "  .colab-df-quickchart-complete:disabled:hover {\n",
              "    background-color: var(--disabled-bg-color);\n",
              "    fill: var(--disabled-fill-color);\n",
              "    box-shadow: none;\n",
              "  }\n",
              "\n",
              "  .colab-df-spinner {\n",
              "    border: 2px solid var(--fill-color);\n",
              "    border-color: transparent;\n",
              "    border-bottom-color: var(--fill-color);\n",
              "    animation:\n",
              "      spin 1s steps(1) infinite;\n",
              "  }\n",
              "\n",
              "  @keyframes spin {\n",
              "    0% {\n",
              "      border-color: transparent;\n",
              "      border-bottom-color: var(--fill-color);\n",
              "      border-left-color: var(--fill-color);\n",
              "    }\n",
              "    20% {\n",
              "      border-color: transparent;\n",
              "      border-left-color: var(--fill-color);\n",
              "      border-top-color: var(--fill-color);\n",
              "    }\n",
              "    30% {\n",
              "      border-color: transparent;\n",
              "      border-left-color: var(--fill-color);\n",
              "      border-top-color: var(--fill-color);\n",
              "      border-right-color: var(--fill-color);\n",
              "    }\n",
              "    40% {\n",
              "      border-color: transparent;\n",
              "      border-right-color: var(--fill-color);\n",
              "      border-top-color: var(--fill-color);\n",
              "    }\n",
              "    60% {\n",
              "      border-color: transparent;\n",
              "      border-right-color: var(--fill-color);\n",
              "    }\n",
              "    80% {\n",
              "      border-color: transparent;\n",
              "      border-right-color: var(--fill-color);\n",
              "      border-bottom-color: var(--fill-color);\n",
              "    }\n",
              "    90% {\n",
              "      border-color: transparent;\n",
              "      border-bottom-color: var(--fill-color);\n",
              "    }\n",
              "  }\n",
              "</style>\n",
              "\n",
              "  <script>\n",
              "    async function quickchart(key) {\n",
              "      const quickchartButtonEl =\n",
              "        document.querySelector('#' + key + ' button');\n",
              "      quickchartButtonEl.disabled = true;  // To prevent multiple clicks.\n",
              "      quickchartButtonEl.classList.add('colab-df-spinner');\n",
              "      try {\n",
              "        const charts = await google.colab.kernel.invokeFunction(\n",
              "            'suggestCharts', [key], {});\n",
              "      } catch (error) {\n",
              "        console.error('Error during call to suggestCharts:', error);\n",
              "      }\n",
              "      quickchartButtonEl.classList.remove('colab-df-spinner');\n",
              "      quickchartButtonEl.classList.add('colab-df-quickchart-complete');\n",
              "    }\n",
              "    (() => {\n",
              "      let quickchartButtonEl =\n",
              "        document.querySelector('#df-07a15a1c-96bf-4202-a225-0d8d6d3a446a button');\n",
              "      quickchartButtonEl.style.display =\n",
              "        google.colab.kernel.accessAllowed ? 'block' : 'none';\n",
              "    })();\n",
              "  </script>\n",
              "</div>\n",
              "    </div>\n",
              "  </div>\n"
            ],
            "application/vnd.google.colaboratory.intrinsic+json": {
              "type": "dataframe",
              "repr_error": "0"
            }
          },
          "metadata": {},
          "execution_count": 632
        }
      ]
    },
    {
      "cell_type": "code",
      "source": [
        "# Удалим строку, где State = ISP, т.к. в ней нет никакой информации о маршруте\n",
        "# cust = cust.drop([54], axis=0).reset_index(drop=True)\n",
        "idx_to_drop = uber[uber[\"State\"] == \"ISP\"].index\n",
        "uber = uber.drop(idx_to_drop, axis=\"rows\").reset_index(drop=True)"
      ],
      "metadata": {
        "id": "qbIKkhigvfAa"
      },
      "execution_count": null,
      "outputs": []
    },
    {
      "cell_type": "markdown",
      "source": [
        "Google подсказал, что все адреса, где State = M, расположены на Манхэттене в Нью-Йорке. Время поездки для каждого из них довольно короткое, можно предположить, что перемещения были в пределах этого района. Тогда State можно изменить на NY и PuFrom на MANHATTAN."
      ],
      "metadata": {
        "id": "wJJhYMcDyhrw"
      }
    },
    {
      "cell_type": "code",
      "source": [
        "rows_to_change = uber[uber[\"State\"] == \"M\"]\n",
        "uber.loc[rows_to_change.index, \"State\"] = \"NY\"\n",
        "uber.loc[rows_to_change.index, \"PuFrom\"] = \"MANHATTAN\""
      ],
      "metadata": {
        "id": "FcFGhzEd0hLa"
      },
      "execution_count": null,
      "outputs": []
    },
    {
      "cell_type": "code",
      "source": [
        "uber[\"State\"].unique()"
      ],
      "metadata": {
        "colab": {
          "base_uri": "https://localhost:8080/"
        },
        "id": "0KeFikhpzGoG",
        "outputId": "957f851a-4688-4008-d766-f89741e6818a"
      },
      "execution_count": null,
      "outputs": [
        {
          "output_type": "execute_result",
          "data": {
            "text/plain": [
              "array(['NY', 'NJ', 'CT', 'PA', 'RI', 'VA', 'DC', 'MA'], dtype=object)"
            ]
          },
          "metadata": {},
          "execution_count": 635
        }
      ]
    },
    {
      "cell_type": "code",
      "source": [
        "# Приятно, что после очистки все значения столбца PuFrom теперь заполнены\n",
        "print_column_value_info(uber, \"PuFrom\")"
      ],
      "metadata": {
        "colab": {
          "base_uri": "https://localhost:8080/"
        },
        "id": "W1S2XaRg1SQe",
        "outputId": "e8089bbd-4a3f-4208-ef1e-825570c76c54"
      },
      "execution_count": null,
      "outputs": [
        {
          "output_type": "stream",
          "name": "stdout",
          "text": [
            "Число значений с учетом регистра: 1493\n",
            "Число значений без учета регистра: 1493\n",
            "Число NaN значений: 0\n",
            "Число пустых значений: 0\n"
          ]
        }
      ]
    },
    {
      "cell_type": "markdown",
      "source": [
        "# Столбец Street"
      ],
      "metadata": {
        "id": "LMPKELRsRkEW"
      }
    },
    {
      "cell_type": "code",
      "source": [
        "print_column_value_info(uber, \"Street\")"
      ],
      "metadata": {
        "colab": {
          "base_uri": "https://localhost:8080/"
        },
        "id": "lWS1kUR3RptN",
        "outputId": "88e13fc2-943a-4f53-f8ce-b6d028a9d4b2"
      },
      "execution_count": null,
      "outputs": [
        {
          "output_type": "stream",
          "name": "stdout",
          "text": [
            "Число значений с учетом регистра: 9566\n",
            "Число значений без учета регистра: 8523\n",
            "Число NaN значений: 0\n",
            "Число пустых значений: 54147\n"
          ]
        }
      ]
    },
    {
      "cell_type": "code",
      "source": [
        "# Приведение значений к верхнему регистру\n",
        "uber[\"Street\"] = uber[\"Street\"].str.strip().str.upper()"
      ],
      "metadata": {
        "id": "M2RFbESaS5gG"
      },
      "execution_count": null,
      "outputs": []
    },
    {
      "cell_type": "code",
      "source": [
        "uber[\"Street\"].value_counts().sort_index()"
      ],
      "metadata": {
        "colab": {
          "base_uri": "https://localhost:8080/",
          "height": 489
        },
        "id": "RFu0LplLVm9V",
        "outputId": "540e7702-0676-4906-c616-948b2efdfd19"
      },
      "execution_count": null,
      "outputs": [
        {
          "output_type": "execute_result",
          "data": {
            "text/plain": [
              "Street\n",
              "                  54147\n",
              ".AMSTERDAM AVE        1\n",
              ".COMMUNITY DR         1\n",
              "0                     1\n",
              "1                     3\n",
              "                  ...  \n",
              "ZABRISKIE ST          1\n",
              "ZELLER DR             1\n",
              "ZOLA ST               1\n",
              "ZOLA STREET           1\n",
              "]LEXINGTON AVE        1\n",
              "Name: count, Length: 8523, dtype: int64"
            ],
            "text/html": [
              "<div>\n",
              "<style scoped>\n",
              "    .dataframe tbody tr th:only-of-type {\n",
              "        vertical-align: middle;\n",
              "    }\n",
              "\n",
              "    .dataframe tbody tr th {\n",
              "        vertical-align: top;\n",
              "    }\n",
              "\n",
              "    .dataframe thead th {\n",
              "        text-align: right;\n",
              "    }\n",
              "</style>\n",
              "<table border=\"1\" class=\"dataframe\">\n",
              "  <thead>\n",
              "    <tr style=\"text-align: right;\">\n",
              "      <th></th>\n",
              "      <th>count</th>\n",
              "    </tr>\n",
              "    <tr>\n",
              "      <th>Street</th>\n",
              "      <th></th>\n",
              "    </tr>\n",
              "  </thead>\n",
              "  <tbody>\n",
              "    <tr>\n",
              "      <th></th>\n",
              "      <td>54147</td>\n",
              "    </tr>\n",
              "    <tr>\n",
              "      <th>.AMSTERDAM AVE</th>\n",
              "      <td>1</td>\n",
              "    </tr>\n",
              "    <tr>\n",
              "      <th>.COMMUNITY DR</th>\n",
              "      <td>1</td>\n",
              "    </tr>\n",
              "    <tr>\n",
              "      <th>0</th>\n",
              "      <td>1</td>\n",
              "    </tr>\n",
              "    <tr>\n",
              "      <th>1</th>\n",
              "      <td>3</td>\n",
              "    </tr>\n",
              "    <tr>\n",
              "      <th>...</th>\n",
              "      <td>...</td>\n",
              "    </tr>\n",
              "    <tr>\n",
              "      <th>ZABRISKIE ST</th>\n",
              "      <td>1</td>\n",
              "    </tr>\n",
              "    <tr>\n",
              "      <th>ZELLER DR</th>\n",
              "      <td>1</td>\n",
              "    </tr>\n",
              "    <tr>\n",
              "      <th>ZOLA ST</th>\n",
              "      <td>1</td>\n",
              "    </tr>\n",
              "    <tr>\n",
              "      <th>ZOLA STREET</th>\n",
              "      <td>1</td>\n",
              "    </tr>\n",
              "    <tr>\n",
              "      <th>]LEXINGTON AVE</th>\n",
              "      <td>1</td>\n",
              "    </tr>\n",
              "  </tbody>\n",
              "</table>\n",
              "<p>8523 rows × 1 columns</p>\n",
              "</div><br><label><b>dtype:</b> int64</label>"
            ]
          },
          "metadata": {},
          "execution_count": 639
        }
      ]
    },
    {
      "cell_type": "code",
      "source": [
        "# Строки, имеющие посторонние символы в начале\n",
        "not_empty_street_rows = uber[uber[\"Street\"] != \"\"]\n",
        "not_empty_street_rows[~not_empty_street_rows[\"Street\"].str[0].str.isalnum()]"
      ],
      "metadata": {
        "colab": {
          "base_uri": "https://localhost:8080/",
          "height": 175
        },
        "id": "jOnj_9TLOt4z",
        "outputId": "f47d9755-159c-400d-820e-86cb23c599d3"
      },
      "execution_count": null,
      "outputs": [
        {
          "output_type": "execute_result",
          "data": {
            "text/plain": [
              "              Date       Time State     PuFrom Address          Street\n",
              "13516   2014.07.15   4.142857    NY  MANHATTAN     509  .AMSTERDAM AVE\n",
              "77030   2014.09.23  21.000000    NY  MANHATTAN     485  ]LEXINGTON AVE\n",
              "112695  2014.09.21   6.000000    NY  MANHASSET     300   .COMMUNITY DR\n",
              "156196  2014.08.02  22.000000    NJ   FORT LEE                    ????"
            ],
            "text/html": [
              "\n",
              "  <div id=\"df-be9319fe-f07a-4ff2-9429-542fef9ca814\" class=\"colab-df-container\">\n",
              "    <div>\n",
              "<style scoped>\n",
              "    .dataframe tbody tr th:only-of-type {\n",
              "        vertical-align: middle;\n",
              "    }\n",
              "\n",
              "    .dataframe tbody tr th {\n",
              "        vertical-align: top;\n",
              "    }\n",
              "\n",
              "    .dataframe thead th {\n",
              "        text-align: right;\n",
              "    }\n",
              "</style>\n",
              "<table border=\"1\" class=\"dataframe\">\n",
              "  <thead>\n",
              "    <tr style=\"text-align: right;\">\n",
              "      <th></th>\n",
              "      <th>Date</th>\n",
              "      <th>Time</th>\n",
              "      <th>State</th>\n",
              "      <th>PuFrom</th>\n",
              "      <th>Address</th>\n",
              "      <th>Street</th>\n",
              "    </tr>\n",
              "  </thead>\n",
              "  <tbody>\n",
              "    <tr>\n",
              "      <th>13516</th>\n",
              "      <td>2014.07.15</td>\n",
              "      <td>4.142857</td>\n",
              "      <td>NY</td>\n",
              "      <td>MANHATTAN</td>\n",
              "      <td>509</td>\n",
              "      <td>.AMSTERDAM AVE</td>\n",
              "    </tr>\n",
              "    <tr>\n",
              "      <th>77030</th>\n",
              "      <td>2014.09.23</td>\n",
              "      <td>21.000000</td>\n",
              "      <td>NY</td>\n",
              "      <td>MANHATTAN</td>\n",
              "      <td>485</td>\n",
              "      <td>]LEXINGTON AVE</td>\n",
              "    </tr>\n",
              "    <tr>\n",
              "      <th>112695</th>\n",
              "      <td>2014.09.21</td>\n",
              "      <td>6.000000</td>\n",
              "      <td>NY</td>\n",
              "      <td>MANHASSET</td>\n",
              "      <td>300</td>\n",
              "      <td>.COMMUNITY DR</td>\n",
              "    </tr>\n",
              "    <tr>\n",
              "      <th>156196</th>\n",
              "      <td>2014.08.02</td>\n",
              "      <td>22.000000</td>\n",
              "      <td>NJ</td>\n",
              "      <td>FORT LEE</td>\n",
              "      <td></td>\n",
              "      <td>????</td>\n",
              "    </tr>\n",
              "  </tbody>\n",
              "</table>\n",
              "</div>\n",
              "    <div class=\"colab-df-buttons\">\n",
              "\n",
              "  <div class=\"colab-df-container\">\n",
              "    <button class=\"colab-df-convert\" onclick=\"convertToInteractive('df-be9319fe-f07a-4ff2-9429-542fef9ca814')\"\n",
              "            title=\"Convert this dataframe to an interactive table.\"\n",
              "            style=\"display:none;\">\n",
              "\n",
              "  <svg xmlns=\"http://www.w3.org/2000/svg\" height=\"24px\" viewBox=\"0 -960 960 960\">\n",
              "    <path d=\"M120-120v-720h720v720H120Zm60-500h600v-160H180v160Zm220 220h160v-160H400v160Zm0 220h160v-160H400v160ZM180-400h160v-160H180v160Zm440 0h160v-160H620v160ZM180-180h160v-160H180v160Zm440 0h160v-160H620v160Z\"/>\n",
              "  </svg>\n",
              "    </button>\n",
              "\n",
              "  <style>\n",
              "    .colab-df-container {\n",
              "      display:flex;\n",
              "      gap: 12px;\n",
              "    }\n",
              "\n",
              "    .colab-df-convert {\n",
              "      background-color: #E8F0FE;\n",
              "      border: none;\n",
              "      border-radius: 50%;\n",
              "      cursor: pointer;\n",
              "      display: none;\n",
              "      fill: #1967D2;\n",
              "      height: 32px;\n",
              "      padding: 0 0 0 0;\n",
              "      width: 32px;\n",
              "    }\n",
              "\n",
              "    .colab-df-convert:hover {\n",
              "      background-color: #E2EBFA;\n",
              "      box-shadow: 0px 1px 2px rgba(60, 64, 67, 0.3), 0px 1px 3px 1px rgba(60, 64, 67, 0.15);\n",
              "      fill: #174EA6;\n",
              "    }\n",
              "\n",
              "    .colab-df-buttons div {\n",
              "      margin-bottom: 4px;\n",
              "    }\n",
              "\n",
              "    [theme=dark] .colab-df-convert {\n",
              "      background-color: #3B4455;\n",
              "      fill: #D2E3FC;\n",
              "    }\n",
              "\n",
              "    [theme=dark] .colab-df-convert:hover {\n",
              "      background-color: #434B5C;\n",
              "      box-shadow: 0px 1px 3px 1px rgba(0, 0, 0, 0.15);\n",
              "      filter: drop-shadow(0px 1px 2px rgba(0, 0, 0, 0.3));\n",
              "      fill: #FFFFFF;\n",
              "    }\n",
              "  </style>\n",
              "\n",
              "    <script>\n",
              "      const buttonEl =\n",
              "        document.querySelector('#df-be9319fe-f07a-4ff2-9429-542fef9ca814 button.colab-df-convert');\n",
              "      buttonEl.style.display =\n",
              "        google.colab.kernel.accessAllowed ? 'block' : 'none';\n",
              "\n",
              "      async function convertToInteractive(key) {\n",
              "        const element = document.querySelector('#df-be9319fe-f07a-4ff2-9429-542fef9ca814');\n",
              "        const dataTable =\n",
              "          await google.colab.kernel.invokeFunction('convertToInteractive',\n",
              "                                                    [key], {});\n",
              "        if (!dataTable) return;\n",
              "\n",
              "        const docLinkHtml = 'Like what you see? Visit the ' +\n",
              "          '<a target=\"_blank\" href=https://colab.research.google.com/notebooks/data_table.ipynb>data table notebook</a>'\n",
              "          + ' to learn more about interactive tables.';\n",
              "        element.innerHTML = '';\n",
              "        dataTable['output_type'] = 'display_data';\n",
              "        await google.colab.output.renderOutput(dataTable, element);\n",
              "        const docLink = document.createElement('div');\n",
              "        docLink.innerHTML = docLinkHtml;\n",
              "        element.appendChild(docLink);\n",
              "      }\n",
              "    </script>\n",
              "  </div>\n",
              "\n",
              "\n",
              "<div id=\"df-b04d9e47-ae4c-43f0-8e31-f3b5e1293e26\">\n",
              "  <button class=\"colab-df-quickchart\" onclick=\"quickchart('df-b04d9e47-ae4c-43f0-8e31-f3b5e1293e26')\"\n",
              "            title=\"Suggest charts\"\n",
              "            style=\"display:none;\">\n",
              "\n",
              "<svg xmlns=\"http://www.w3.org/2000/svg\" height=\"24px\"viewBox=\"0 0 24 24\"\n",
              "     width=\"24px\">\n",
              "    <g>\n",
              "        <path d=\"M19 3H5c-1.1 0-2 .9-2 2v14c0 1.1.9 2 2 2h14c1.1 0 2-.9 2-2V5c0-1.1-.9-2-2-2zM9 17H7v-7h2v7zm4 0h-2V7h2v10zm4 0h-2v-4h2v4z\"/>\n",
              "    </g>\n",
              "</svg>\n",
              "  </button>\n",
              "\n",
              "<style>\n",
              "  .colab-df-quickchart {\n",
              "      --bg-color: #E8F0FE;\n",
              "      --fill-color: #1967D2;\n",
              "      --hover-bg-color: #E2EBFA;\n",
              "      --hover-fill-color: #174EA6;\n",
              "      --disabled-fill-color: #AAA;\n",
              "      --disabled-bg-color: #DDD;\n",
              "  }\n",
              "\n",
              "  [theme=dark] .colab-df-quickchart {\n",
              "      --bg-color: #3B4455;\n",
              "      --fill-color: #D2E3FC;\n",
              "      --hover-bg-color: #434B5C;\n",
              "      --hover-fill-color: #FFFFFF;\n",
              "      --disabled-bg-color: #3B4455;\n",
              "      --disabled-fill-color: #666;\n",
              "  }\n",
              "\n",
              "  .colab-df-quickchart {\n",
              "    background-color: var(--bg-color);\n",
              "    border: none;\n",
              "    border-radius: 50%;\n",
              "    cursor: pointer;\n",
              "    display: none;\n",
              "    fill: var(--fill-color);\n",
              "    height: 32px;\n",
              "    padding: 0;\n",
              "    width: 32px;\n",
              "  }\n",
              "\n",
              "  .colab-df-quickchart:hover {\n",
              "    background-color: var(--hover-bg-color);\n",
              "    box-shadow: 0 1px 2px rgba(60, 64, 67, 0.3), 0 1px 3px 1px rgba(60, 64, 67, 0.15);\n",
              "    fill: var(--button-hover-fill-color);\n",
              "  }\n",
              "\n",
              "  .colab-df-quickchart-complete:disabled,\n",
              "  .colab-df-quickchart-complete:disabled:hover {\n",
              "    background-color: var(--disabled-bg-color);\n",
              "    fill: var(--disabled-fill-color);\n",
              "    box-shadow: none;\n",
              "  }\n",
              "\n",
              "  .colab-df-spinner {\n",
              "    border: 2px solid var(--fill-color);\n",
              "    border-color: transparent;\n",
              "    border-bottom-color: var(--fill-color);\n",
              "    animation:\n",
              "      spin 1s steps(1) infinite;\n",
              "  }\n",
              "\n",
              "  @keyframes spin {\n",
              "    0% {\n",
              "      border-color: transparent;\n",
              "      border-bottom-color: var(--fill-color);\n",
              "      border-left-color: var(--fill-color);\n",
              "    }\n",
              "    20% {\n",
              "      border-color: transparent;\n",
              "      border-left-color: var(--fill-color);\n",
              "      border-top-color: var(--fill-color);\n",
              "    }\n",
              "    30% {\n",
              "      border-color: transparent;\n",
              "      border-left-color: var(--fill-color);\n",
              "      border-top-color: var(--fill-color);\n",
              "      border-right-color: var(--fill-color);\n",
              "    }\n",
              "    40% {\n",
              "      border-color: transparent;\n",
              "      border-right-color: var(--fill-color);\n",
              "      border-top-color: var(--fill-color);\n",
              "    }\n",
              "    60% {\n",
              "      border-color: transparent;\n",
              "      border-right-color: var(--fill-color);\n",
              "    }\n",
              "    80% {\n",
              "      border-color: transparent;\n",
              "      border-right-color: var(--fill-color);\n",
              "      border-bottom-color: var(--fill-color);\n",
              "    }\n",
              "    90% {\n",
              "      border-color: transparent;\n",
              "      border-bottom-color: var(--fill-color);\n",
              "    }\n",
              "  }\n",
              "</style>\n",
              "\n",
              "  <script>\n",
              "    async function quickchart(key) {\n",
              "      const quickchartButtonEl =\n",
              "        document.querySelector('#' + key + ' button');\n",
              "      quickchartButtonEl.disabled = true;  // To prevent multiple clicks.\n",
              "      quickchartButtonEl.classList.add('colab-df-spinner');\n",
              "      try {\n",
              "        const charts = await google.colab.kernel.invokeFunction(\n",
              "            'suggestCharts', [key], {});\n",
              "      } catch (error) {\n",
              "        console.error('Error during call to suggestCharts:', error);\n",
              "      }\n",
              "      quickchartButtonEl.classList.remove('colab-df-spinner');\n",
              "      quickchartButtonEl.classList.add('colab-df-quickchart-complete');\n",
              "    }\n",
              "    (() => {\n",
              "      let quickchartButtonEl =\n",
              "        document.querySelector('#df-b04d9e47-ae4c-43f0-8e31-f3b5e1293e26 button');\n",
              "      quickchartButtonEl.style.display =\n",
              "        google.colab.kernel.accessAllowed ? 'block' : 'none';\n",
              "    })();\n",
              "  </script>\n",
              "</div>\n",
              "    </div>\n",
              "  </div>\n"
            ],
            "application/vnd.google.colaboratory.intrinsic+json": {
              "type": "dataframe",
              "repr_error": "0"
            }
          },
          "metadata": {},
          "execution_count": 640
        }
      ]
    },
    {
      "cell_type": "code",
      "source": [
        "# Замена значения ???? на пустое\n",
        "uber.loc[uber[uber[\"Street\"].str.contains(\"\\?\")].index, \"Street\"] = \"\""
      ],
      "metadata": {
        "id": "3DZA0oYoSQcV"
      },
      "execution_count": null,
      "outputs": []
    },
    {
      "cell_type": "code",
      "source": [
        "# Удаление посторонних символов в начале некоторых строк\n",
        "not_empty_street_rows = uber[uber[\"Street\"] != \"\"]\n",
        "rows_to_change = not_empty_street_rows[~not_empty_street_rows[\"Street\"].str[0].str.isalnum()]\n",
        "uber.loc[rows_to_change.index, \"Street\"] = uber.iloc[rows_to_change.index][\"Street\"].str[1:]"
      ],
      "metadata": {
        "id": "GF752tJEV3Dt"
      },
      "execution_count": null,
      "outputs": []
    },
    {
      "cell_type": "code",
      "source": [
        "# Строки, имеющие посторонние символы в конце\n",
        "not_empty_street = uber[uber[\"Street\"] != \"\"]\n",
        "not_empty_street[~not_empty_street[\"Street\"].str[-1].str.isalnum()]"
      ],
      "metadata": {
        "colab": {
          "base_uri": "https://localhost:8080/",
          "height": 423
        },
        "id": "DnX6lvF1Tmwc",
        "outputId": "243d42e1-fbbc-49c3-9e25-5374692ed2d3"
      },
      "execution_count": null,
      "outputs": [
        {
          "output_type": "execute_result",
          "data": {
            "text/plain": [
              "              Date       Time State        PuFrom Address  \\\n",
              "645     2014.09.17   6.000000    NY      MELVILLE     169   \n",
              "12769   2014.07.03  27.000000    NY     OCEANSIDE    3050   \n",
              "23881   2014.07.31  18.000000    NY     PLAINVIEW     303   \n",
              "24724   2014.08.13   6.000000    NY     HARTSDALE      50   \n",
              "24986   2014.09.06  10.304348    NJ       BAYONNE      14   \n",
              "...            ...        ...   ...           ...     ...   \n",
              "174953  2014.09.13  18.000000    NJ   JERSEY CITY     837   \n",
              "180924  2014.07.06  21.000000    NJ     TETERBORO     101   \n",
              "183192  2014.09.06  24.333333    NY    GREAT NECK     555   \n",
              "186073  2014.09.21  15.000000    NY  PORT CHESTER      18   \n",
              "190667  2014.09.01  18.333333    NJ     TETERBORO     101   \n",
              "\n",
              "                      Street  \n",
              "645            ALTESSA BLVD.  \n",
              "12769          OCEANSIDE RD.  \n",
              "23881        SUNNYSIDE BLVD.  \n",
              "24724       E.HARTSDALE AVE.  \n",
              "24986    PORT TERMINAL BLVD.  \n",
              "...                      ...  \n",
              "174953           JERSEY AVE.  \n",
              "180924  CHARLES LINDBERG DR.  \n",
              "183192        NORTHERN BLVD.  \n",
              "186073              MILL ST.  \n",
              "190667  CHARLES LINDBERG DR.  \n",
              "\n",
              "[82 rows x 6 columns]"
            ],
            "text/html": [
              "\n",
              "  <div id=\"df-588648ed-d112-47b2-b10e-d4e1cdf90732\" class=\"colab-df-container\">\n",
              "    <div>\n",
              "<style scoped>\n",
              "    .dataframe tbody tr th:only-of-type {\n",
              "        vertical-align: middle;\n",
              "    }\n",
              "\n",
              "    .dataframe tbody tr th {\n",
              "        vertical-align: top;\n",
              "    }\n",
              "\n",
              "    .dataframe thead th {\n",
              "        text-align: right;\n",
              "    }\n",
              "</style>\n",
              "<table border=\"1\" class=\"dataframe\">\n",
              "  <thead>\n",
              "    <tr style=\"text-align: right;\">\n",
              "      <th></th>\n",
              "      <th>Date</th>\n",
              "      <th>Time</th>\n",
              "      <th>State</th>\n",
              "      <th>PuFrom</th>\n",
              "      <th>Address</th>\n",
              "      <th>Street</th>\n",
              "    </tr>\n",
              "  </thead>\n",
              "  <tbody>\n",
              "    <tr>\n",
              "      <th>645</th>\n",
              "      <td>2014.09.17</td>\n",
              "      <td>6.000000</td>\n",
              "      <td>NY</td>\n",
              "      <td>MELVILLE</td>\n",
              "      <td>169</td>\n",
              "      <td>ALTESSA BLVD.</td>\n",
              "    </tr>\n",
              "    <tr>\n",
              "      <th>12769</th>\n",
              "      <td>2014.07.03</td>\n",
              "      <td>27.000000</td>\n",
              "      <td>NY</td>\n",
              "      <td>OCEANSIDE</td>\n",
              "      <td>3050</td>\n",
              "      <td>OCEANSIDE RD.</td>\n",
              "    </tr>\n",
              "    <tr>\n",
              "      <th>23881</th>\n",
              "      <td>2014.07.31</td>\n",
              "      <td>18.000000</td>\n",
              "      <td>NY</td>\n",
              "      <td>PLAINVIEW</td>\n",
              "      <td>303</td>\n",
              "      <td>SUNNYSIDE BLVD.</td>\n",
              "    </tr>\n",
              "    <tr>\n",
              "      <th>24724</th>\n",
              "      <td>2014.08.13</td>\n",
              "      <td>6.000000</td>\n",
              "      <td>NY</td>\n",
              "      <td>HARTSDALE</td>\n",
              "      <td>50</td>\n",
              "      <td>E.HARTSDALE AVE.</td>\n",
              "    </tr>\n",
              "    <tr>\n",
              "      <th>24986</th>\n",
              "      <td>2014.09.06</td>\n",
              "      <td>10.304348</td>\n",
              "      <td>NJ</td>\n",
              "      <td>BAYONNE</td>\n",
              "      <td>14</td>\n",
              "      <td>PORT TERMINAL BLVD.</td>\n",
              "    </tr>\n",
              "    <tr>\n",
              "      <th>...</th>\n",
              "      <td>...</td>\n",
              "      <td>...</td>\n",
              "      <td>...</td>\n",
              "      <td>...</td>\n",
              "      <td>...</td>\n",
              "      <td>...</td>\n",
              "    </tr>\n",
              "    <tr>\n",
              "      <th>174953</th>\n",
              "      <td>2014.09.13</td>\n",
              "      <td>18.000000</td>\n",
              "      <td>NJ</td>\n",
              "      <td>JERSEY CITY</td>\n",
              "      <td>837</td>\n",
              "      <td>JERSEY AVE.</td>\n",
              "    </tr>\n",
              "    <tr>\n",
              "      <th>180924</th>\n",
              "      <td>2014.07.06</td>\n",
              "      <td>21.000000</td>\n",
              "      <td>NJ</td>\n",
              "      <td>TETERBORO</td>\n",
              "      <td>101</td>\n",
              "      <td>CHARLES LINDBERG DR.</td>\n",
              "    </tr>\n",
              "    <tr>\n",
              "      <th>183192</th>\n",
              "      <td>2014.09.06</td>\n",
              "      <td>24.333333</td>\n",
              "      <td>NY</td>\n",
              "      <td>GREAT NECK</td>\n",
              "      <td>555</td>\n",
              "      <td>NORTHERN BLVD.</td>\n",
              "    </tr>\n",
              "    <tr>\n",
              "      <th>186073</th>\n",
              "      <td>2014.09.21</td>\n",
              "      <td>15.000000</td>\n",
              "      <td>NY</td>\n",
              "      <td>PORT CHESTER</td>\n",
              "      <td>18</td>\n",
              "      <td>MILL ST.</td>\n",
              "    </tr>\n",
              "    <tr>\n",
              "      <th>190667</th>\n",
              "      <td>2014.09.01</td>\n",
              "      <td>18.333333</td>\n",
              "      <td>NJ</td>\n",
              "      <td>TETERBORO</td>\n",
              "      <td>101</td>\n",
              "      <td>CHARLES LINDBERG DR.</td>\n",
              "    </tr>\n",
              "  </tbody>\n",
              "</table>\n",
              "<p>82 rows × 6 columns</p>\n",
              "</div>\n",
              "    <div class=\"colab-df-buttons\">\n",
              "\n",
              "  <div class=\"colab-df-container\">\n",
              "    <button class=\"colab-df-convert\" onclick=\"convertToInteractive('df-588648ed-d112-47b2-b10e-d4e1cdf90732')\"\n",
              "            title=\"Convert this dataframe to an interactive table.\"\n",
              "            style=\"display:none;\">\n",
              "\n",
              "  <svg xmlns=\"http://www.w3.org/2000/svg\" height=\"24px\" viewBox=\"0 -960 960 960\">\n",
              "    <path d=\"M120-120v-720h720v720H120Zm60-500h600v-160H180v160Zm220 220h160v-160H400v160Zm0 220h160v-160H400v160ZM180-400h160v-160H180v160Zm440 0h160v-160H620v160ZM180-180h160v-160H180v160Zm440 0h160v-160H620v160Z\"/>\n",
              "  </svg>\n",
              "    </button>\n",
              "\n",
              "  <style>\n",
              "    .colab-df-container {\n",
              "      display:flex;\n",
              "      gap: 12px;\n",
              "    }\n",
              "\n",
              "    .colab-df-convert {\n",
              "      background-color: #E8F0FE;\n",
              "      border: none;\n",
              "      border-radius: 50%;\n",
              "      cursor: pointer;\n",
              "      display: none;\n",
              "      fill: #1967D2;\n",
              "      height: 32px;\n",
              "      padding: 0 0 0 0;\n",
              "      width: 32px;\n",
              "    }\n",
              "\n",
              "    .colab-df-convert:hover {\n",
              "      background-color: #E2EBFA;\n",
              "      box-shadow: 0px 1px 2px rgba(60, 64, 67, 0.3), 0px 1px 3px 1px rgba(60, 64, 67, 0.15);\n",
              "      fill: #174EA6;\n",
              "    }\n",
              "\n",
              "    .colab-df-buttons div {\n",
              "      margin-bottom: 4px;\n",
              "    }\n",
              "\n",
              "    [theme=dark] .colab-df-convert {\n",
              "      background-color: #3B4455;\n",
              "      fill: #D2E3FC;\n",
              "    }\n",
              "\n",
              "    [theme=dark] .colab-df-convert:hover {\n",
              "      background-color: #434B5C;\n",
              "      box-shadow: 0px 1px 3px 1px rgba(0, 0, 0, 0.15);\n",
              "      filter: drop-shadow(0px 1px 2px rgba(0, 0, 0, 0.3));\n",
              "      fill: #FFFFFF;\n",
              "    }\n",
              "  </style>\n",
              "\n",
              "    <script>\n",
              "      const buttonEl =\n",
              "        document.querySelector('#df-588648ed-d112-47b2-b10e-d4e1cdf90732 button.colab-df-convert');\n",
              "      buttonEl.style.display =\n",
              "        google.colab.kernel.accessAllowed ? 'block' : 'none';\n",
              "\n",
              "      async function convertToInteractive(key) {\n",
              "        const element = document.querySelector('#df-588648ed-d112-47b2-b10e-d4e1cdf90732');\n",
              "        const dataTable =\n",
              "          await google.colab.kernel.invokeFunction('convertToInteractive',\n",
              "                                                    [key], {});\n",
              "        if (!dataTable) return;\n",
              "\n",
              "        const docLinkHtml = 'Like what you see? Visit the ' +\n",
              "          '<a target=\"_blank\" href=https://colab.research.google.com/notebooks/data_table.ipynb>data table notebook</a>'\n",
              "          + ' to learn more about interactive tables.';\n",
              "        element.innerHTML = '';\n",
              "        dataTable['output_type'] = 'display_data';\n",
              "        await google.colab.output.renderOutput(dataTable, element);\n",
              "        const docLink = document.createElement('div');\n",
              "        docLink.innerHTML = docLinkHtml;\n",
              "        element.appendChild(docLink);\n",
              "      }\n",
              "    </script>\n",
              "  </div>\n",
              "\n",
              "\n",
              "<div id=\"df-b966aaa7-c7ca-4b0d-967c-eabf8f319d0d\">\n",
              "  <button class=\"colab-df-quickchart\" onclick=\"quickchart('df-b966aaa7-c7ca-4b0d-967c-eabf8f319d0d')\"\n",
              "            title=\"Suggest charts\"\n",
              "            style=\"display:none;\">\n",
              "\n",
              "<svg xmlns=\"http://www.w3.org/2000/svg\" height=\"24px\"viewBox=\"0 0 24 24\"\n",
              "     width=\"24px\">\n",
              "    <g>\n",
              "        <path d=\"M19 3H5c-1.1 0-2 .9-2 2v14c0 1.1.9 2 2 2h14c1.1 0 2-.9 2-2V5c0-1.1-.9-2-2-2zM9 17H7v-7h2v7zm4 0h-2V7h2v10zm4 0h-2v-4h2v4z\"/>\n",
              "    </g>\n",
              "</svg>\n",
              "  </button>\n",
              "\n",
              "<style>\n",
              "  .colab-df-quickchart {\n",
              "      --bg-color: #E8F0FE;\n",
              "      --fill-color: #1967D2;\n",
              "      --hover-bg-color: #E2EBFA;\n",
              "      --hover-fill-color: #174EA6;\n",
              "      --disabled-fill-color: #AAA;\n",
              "      --disabled-bg-color: #DDD;\n",
              "  }\n",
              "\n",
              "  [theme=dark] .colab-df-quickchart {\n",
              "      --bg-color: #3B4455;\n",
              "      --fill-color: #D2E3FC;\n",
              "      --hover-bg-color: #434B5C;\n",
              "      --hover-fill-color: #FFFFFF;\n",
              "      --disabled-bg-color: #3B4455;\n",
              "      --disabled-fill-color: #666;\n",
              "  }\n",
              "\n",
              "  .colab-df-quickchart {\n",
              "    background-color: var(--bg-color);\n",
              "    border: none;\n",
              "    border-radius: 50%;\n",
              "    cursor: pointer;\n",
              "    display: none;\n",
              "    fill: var(--fill-color);\n",
              "    height: 32px;\n",
              "    padding: 0;\n",
              "    width: 32px;\n",
              "  }\n",
              "\n",
              "  .colab-df-quickchart:hover {\n",
              "    background-color: var(--hover-bg-color);\n",
              "    box-shadow: 0 1px 2px rgba(60, 64, 67, 0.3), 0 1px 3px 1px rgba(60, 64, 67, 0.15);\n",
              "    fill: var(--button-hover-fill-color);\n",
              "  }\n",
              "\n",
              "  .colab-df-quickchart-complete:disabled,\n",
              "  .colab-df-quickchart-complete:disabled:hover {\n",
              "    background-color: var(--disabled-bg-color);\n",
              "    fill: var(--disabled-fill-color);\n",
              "    box-shadow: none;\n",
              "  }\n",
              "\n",
              "  .colab-df-spinner {\n",
              "    border: 2px solid var(--fill-color);\n",
              "    border-color: transparent;\n",
              "    border-bottom-color: var(--fill-color);\n",
              "    animation:\n",
              "      spin 1s steps(1) infinite;\n",
              "  }\n",
              "\n",
              "  @keyframes spin {\n",
              "    0% {\n",
              "      border-color: transparent;\n",
              "      border-bottom-color: var(--fill-color);\n",
              "      border-left-color: var(--fill-color);\n",
              "    }\n",
              "    20% {\n",
              "      border-color: transparent;\n",
              "      border-left-color: var(--fill-color);\n",
              "      border-top-color: var(--fill-color);\n",
              "    }\n",
              "    30% {\n",
              "      border-color: transparent;\n",
              "      border-left-color: var(--fill-color);\n",
              "      border-top-color: var(--fill-color);\n",
              "      border-right-color: var(--fill-color);\n",
              "    }\n",
              "    40% {\n",
              "      border-color: transparent;\n",
              "      border-right-color: var(--fill-color);\n",
              "      border-top-color: var(--fill-color);\n",
              "    }\n",
              "    60% {\n",
              "      border-color: transparent;\n",
              "      border-right-color: var(--fill-color);\n",
              "    }\n",
              "    80% {\n",
              "      border-color: transparent;\n",
              "      border-right-color: var(--fill-color);\n",
              "      border-bottom-color: var(--fill-color);\n",
              "    }\n",
              "    90% {\n",
              "      border-color: transparent;\n",
              "      border-bottom-color: var(--fill-color);\n",
              "    }\n",
              "  }\n",
              "</style>\n",
              "\n",
              "  <script>\n",
              "    async function quickchart(key) {\n",
              "      const quickchartButtonEl =\n",
              "        document.querySelector('#' + key + ' button');\n",
              "      quickchartButtonEl.disabled = true;  // To prevent multiple clicks.\n",
              "      quickchartButtonEl.classList.add('colab-df-spinner');\n",
              "      try {\n",
              "        const charts = await google.colab.kernel.invokeFunction(\n",
              "            'suggestCharts', [key], {});\n",
              "      } catch (error) {\n",
              "        console.error('Error during call to suggestCharts:', error);\n",
              "      }\n",
              "      quickchartButtonEl.classList.remove('colab-df-spinner');\n",
              "      quickchartButtonEl.classList.add('colab-df-quickchart-complete');\n",
              "    }\n",
              "    (() => {\n",
              "      let quickchartButtonEl =\n",
              "        document.querySelector('#df-b966aaa7-c7ca-4b0d-967c-eabf8f319d0d button');\n",
              "      quickchartButtonEl.style.display =\n",
              "        google.colab.kernel.accessAllowed ? 'block' : 'none';\n",
              "    })();\n",
              "  </script>\n",
              "</div>\n",
              "    </div>\n",
              "  </div>\n"
            ],
            "application/vnd.google.colaboratory.intrinsic+json": {
              "type": "dataframe",
              "repr_error": "0"
            }
          },
          "metadata": {},
          "execution_count": 643
        }
      ]
    },
    {
      "cell_type": "code",
      "source": [
        "# Удаление посторонних символов в конце некоторых строк\n",
        "not_empty_street_rows = uber[uber[\"Street\"] != \"\"]\n",
        "rows_to_change = not_empty_street_rows[~not_empty_street_rows[\"Street\"].str[-1].str.isalnum()]\n",
        "uber.loc[rows_to_change.index, \"Street\"] = uber.iloc[rows_to_change.index][\"Street\"].str[0:-1]"
      ],
      "metadata": {
        "id": "164dFiBcmBEQ"
      },
      "execution_count": null,
      "outputs": []
    },
    {
      "cell_type": "markdown",
      "source": [
        "Я заметила, что где-то улицы обозначены с сокращением, где-то без (ST - STREET и т.п.). Я собираюсь привести все названия к одному виду, используя общепринятые почтовые сокращения (https://pe.usps.com/text/pub28/28apc_002.htm).\n",
        "\n",
        "Также к названию улицы в конце или начале может быть добавлено направление (EAST - E и т.д.). Их я тоже хочу привести к одному формату.\n",
        "\n",
        "Я планировала использовать библиотеку address, но она не работает с Python3. В исходниках этой библиотеки на GitHub есть файл csv со всеми вариантами обозначения улиц (https://github.com/SwoopSearch/pyaddress/blob/master/address/suffixes.csv), его я и буду использовать.\n",
        "\n",
        "При изменении нужно обращать внимание, что подстрока, которую нужно изменить, является отдельным словом. Например, строка BROADWAY содержит ROAD, но не должна быть изменена. Также считаем, что сторона света может быть указана только в начале или конце строки, другие совпадения учитываться не будут.\n",
        "\n",
        "Можно заметить, что некоторые строки содержат точки, при этом в столбце есть точно такие же строки без точки, поэтому имеет смысл ее удалить совсем.\n",
        "\n",
        "В названиях некоторых улиц есть слово \"святой\", которое обозначается как ST или SAINT. Для обнородности имеет смысл SAINT заменить на ST (наоборот не получится из-за конфликта с сокращением STREET)."
      ],
      "metadata": {
        "id": "LRjEgSgE4_hq"
      }
    },
    {
      "cell_type": "code",
      "source": [
        "# Формирование словаря со всеми обозначениями улиц\n",
        "resp = rq.get(\"https://raw.githubusercontent.com/SwoopSearch/pyaddress/master/address/suffixes.csv\")\n",
        "suffixes = {}\n",
        "reader = csv.reader(resp.text.splitlines())\n",
        "for row in reader:\n",
        "    suffixes[row[0].strip()] = row[1].strip()"
      ],
      "metadata": {
        "id": "4D9FqC9mI-c0"
      },
      "execution_count": null,
      "outputs": []
    },
    {
      "cell_type": "code",
      "source": [
        "# Формирование словаря со всеми направлениями\n",
        "directions = {'N': \"NORTH\",\n",
        "              'S': \"SOUTH\",\n",
        "              'E': \"EAST\",\n",
        "              'W': \"WEST\",\n",
        "              'NE': \"NORTHEAST\",\n",
        "              'NW': \"NORTHWEST\",\n",
        "              'SE': \"SOUTHEAST\",\n",
        "              'SW': \"SOUTHWEST\"\n",
        "              }"
      ],
      "metadata": {
        "id": "jATjMGp5a1Cf"
      },
      "execution_count": null,
      "outputs": []
    },
    {
      "cell_type": "code",
      "source": [
        "# Функция преобразует названия улиц к общему виду\n",
        "# Заодно убирает точки и лишние пробелы между словами\n",
        "def format_street(street: str) -> str:\n",
        "    words = re.split(\"\\.| \", street)\n",
        "    # Удаление пустых строк, попавших в список\n",
        "    while \"\" in words:\n",
        "        words.remove(\"\")\n",
        "    # Если строка пустая или состоит из пробелов и точек\n",
        "    if not words:\n",
        "        return \"\"\n",
        "    # Преобразование обозначений улиц, замена SAINT на ST\n",
        "    for idx in range(0, len(words)):\n",
        "        if words[idx] == \"SAINT\":\n",
        "            words[idx] = \"ST\"\n",
        "        elif words[idx] in suffixes:\n",
        "            words[idx] = suffixes[words[idx]]\n",
        "    # Если в начале или конце строки сокращенное обозначение направления, оно преобразуется в полное\n",
        "    for i in range(-1, 1):\n",
        "        if words[i] in directions:\n",
        "            words[i] = directions[words[i]]\n",
        "    return \" \".join(words)"
      ],
      "metadata": {
        "id": "mQUpv_1Idnl4"
      },
      "execution_count": null,
      "outputs": []
    },
    {
      "cell_type": "code",
      "source": [
        "# Преобразование данных в столбце\n",
        "uber[\"Street\"] = uber[\"Street\"].apply(lambda s: format_street(s))"
      ],
      "metadata": {
        "id": "FXlumUP5hTvP"
      },
      "execution_count": null,
      "outputs": []
    },
    {
      "cell_type": "code",
      "source": [
        "# Уникальных значений стало поменьше\n",
        "print_column_value_info(uber, \"Street\")"
      ],
      "metadata": {
        "colab": {
          "base_uri": "https://localhost:8080/"
        },
        "id": "-dYn5emCl_cg",
        "outputId": "786e2c26-7cd7-4797-8fae-f031ac1f9b11"
      },
      "execution_count": null,
      "outputs": [
        {
          "output_type": "stream",
          "name": "stdout",
          "text": [
            "Число значений с учетом регистра: 7911\n",
            "Число значений без учета регистра: 7911\n",
            "Число NaN значений: 0\n",
            "Число пустых значений: 54148\n"
          ]
        }
      ]
    },
    {
      "cell_type": "markdown",
      "source": [
        "# Столбец Address"
      ],
      "metadata": {
        "id": "julSg1n7L__7"
      }
    },
    {
      "cell_type": "code",
      "source": [
        "print_column_value_info(uber, \"Address\")"
      ],
      "metadata": {
        "colab": {
          "base_uri": "https://localhost:8080/"
        },
        "id": "igtwidimwFZn",
        "outputId": "a87a5536-74b3-49ed-8838-0945666c44f6"
      },
      "execution_count": null,
      "outputs": [
        {
          "output_type": "stream",
          "name": "stdout",
          "text": [
            "Число значений с учетом регистра: 4328\n",
            "Число значений без учета регистра: 4328\n",
            "Число NaN значений: 0\n",
            "Число пустых значений: 54396\n"
          ]
        }
      ]
    },
    {
      "cell_type": "code",
      "source": [
        "uber[\"Address\"].value_counts().sort_index()"
      ],
      "metadata": {
        "colab": {
          "base_uri": "https://localhost:8080/",
          "height": 489
        },
        "id": "k3NYq-PGzYXI",
        "outputId": "379938d1-dc4b-4494-ce37-fe3f8b39ea4b"
      },
      "execution_count": null,
      "outputs": [
        {
          "output_type": "execute_result",
          "data": {
            "text/plain": [
              "Address\n",
              "          54396\n",
              "-             1\n",
              "0             1\n",
              "0-46          2\n",
              "1          2018\n",
              "          ...  \n",
              "N546BW        1\n",
              "PVT           1\n",
              "TAIL #        1\n",
              "TAIL#         1\n",
              "engle         1\n",
              "Name: count, Length: 4328, dtype: int64"
            ],
            "text/html": [
              "<div>\n",
              "<style scoped>\n",
              "    .dataframe tbody tr th:only-of-type {\n",
              "        vertical-align: middle;\n",
              "    }\n",
              "\n",
              "    .dataframe tbody tr th {\n",
              "        vertical-align: top;\n",
              "    }\n",
              "\n",
              "    .dataframe thead th {\n",
              "        text-align: right;\n",
              "    }\n",
              "</style>\n",
              "<table border=\"1\" class=\"dataframe\">\n",
              "  <thead>\n",
              "    <tr style=\"text-align: right;\">\n",
              "      <th></th>\n",
              "      <th>count</th>\n",
              "    </tr>\n",
              "    <tr>\n",
              "      <th>Address</th>\n",
              "      <th></th>\n",
              "    </tr>\n",
              "  </thead>\n",
              "  <tbody>\n",
              "    <tr>\n",
              "      <th></th>\n",
              "      <td>54396</td>\n",
              "    </tr>\n",
              "    <tr>\n",
              "      <th>-</th>\n",
              "      <td>1</td>\n",
              "    </tr>\n",
              "    <tr>\n",
              "      <th>0</th>\n",
              "      <td>1</td>\n",
              "    </tr>\n",
              "    <tr>\n",
              "      <th>0-46</th>\n",
              "      <td>2</td>\n",
              "    </tr>\n",
              "    <tr>\n",
              "      <th>1</th>\n",
              "      <td>2018</td>\n",
              "    </tr>\n",
              "    <tr>\n",
              "      <th>...</th>\n",
              "      <td>...</td>\n",
              "    </tr>\n",
              "    <tr>\n",
              "      <th>N546BW</th>\n",
              "      <td>1</td>\n",
              "    </tr>\n",
              "    <tr>\n",
              "      <th>PVT</th>\n",
              "      <td>1</td>\n",
              "    </tr>\n",
              "    <tr>\n",
              "      <th>TAIL #</th>\n",
              "      <td>1</td>\n",
              "    </tr>\n",
              "    <tr>\n",
              "      <th>TAIL#</th>\n",
              "      <td>1</td>\n",
              "    </tr>\n",
              "    <tr>\n",
              "      <th>engle</th>\n",
              "      <td>1</td>\n",
              "    </tr>\n",
              "  </tbody>\n",
              "</table>\n",
              "<p>4328 rows × 1 columns</p>\n",
              "</div><br><label><b>dtype:</b> int64</label>"
            ]
          },
          "metadata": {},
          "execution_count": 651
        }
      ]
    },
    {
      "cell_type": "code",
      "source": [
        "uber[\"Address\"] = uber[\"Address\"].str.strip().str.upper()"
      ],
      "metadata": {
        "id": "vrAQKTCZyDDy"
      },
      "execution_count": null,
      "outputs": []
    },
    {
      "cell_type": "markdown",
      "source": [
        "# Удаление некорректных строк"
      ],
      "metadata": {
        "id": "D-9ez4ds0Y25"
      }
    },
    {
      "cell_type": "markdown",
      "source": [
        "Пустые значения могут содержать только столбцы Address и Street. При этом если не заполнен только Address, то такая строка вполне корректна. В нее можно записать какое-то значение по умолчанию, например, \"-\"."
      ],
      "metadata": {
        "id": "w2BSnYcj0ho1"
      }
    },
    {
      "cell_type": "code",
      "source": [
        "# Число строк, где Street не пуст, а Address пуст\n",
        "uber[(uber[\"Street\"] != \"\") & (uber[\"Address\"] == \"\")].index.size"
      ],
      "metadata": {
        "colab": {
          "base_uri": "https://localhost:8080/"
        },
        "id": "_1WviUol1jP-",
        "outputId": "c72776ed-30d6-4c09-e60c-e15e6dbdeb33"
      },
      "execution_count": null,
      "outputs": [
        {
          "output_type": "execute_result",
          "data": {
            "text/plain": [
              "248"
            ]
          },
          "metadata": {},
          "execution_count": 653
        }
      ]
    },
    {
      "cell_type": "code",
      "source": [
        "# Устанавливаем значение по умолчанию для Address в таких строках\n",
        "rows_to_change = uber[(uber[\"Street\"] != \"\") & (uber[\"Address\"] == \"\")]\n",
        "uber.loc[rows_to_change.index, \"Address\"] = \"-\""
      ],
      "metadata": {
        "id": "MLGzRy4z3azv"
      },
      "execution_count": null,
      "outputs": []
    },
    {
      "cell_type": "code",
      "source": [
        "# Число строк, где Street пуст, а Address не пуст\n",
        "uber[(uber[\"Street\"] == \"\") & (uber[\"Address\"] != \"\")].index.size"
      ],
      "metadata": {
        "colab": {
          "base_uri": "https://localhost:8080/"
        },
        "id": "ne_oX6lD29eo",
        "outputId": "5d847570-80f1-4fea-ac0d-72c693b3cbea"
      },
      "execution_count": null,
      "outputs": [
        {
          "output_type": "execute_result",
          "data": {
            "text/plain": [
              "0"
            ]
          },
          "metadata": {},
          "execution_count": 655
        }
      ]
    },
    {
      "cell_type": "code",
      "source": [
        "# Число строк, где Street и Address пусты одновременно\n",
        "uber[(uber[\"Street\"] == \"\") & (uber[\"Address\"] == \"\")].index.size"
      ],
      "metadata": {
        "colab": {
          "base_uri": "https://localhost:8080/"
        },
        "id": "gwDna8KA4jFQ",
        "outputId": "71ea8750-509c-40fd-9035-07cab73337c4"
      },
      "execution_count": null,
      "outputs": [
        {
          "output_type": "execute_result",
          "data": {
            "text/plain": [
              "54148"
            ]
          },
          "metadata": {},
          "execution_count": 656
        }
      ]
    },
    {
      "cell_type": "markdown",
      "source": [
        "Предположим, что для некоторой задачи нам нужны только корректные заполненные данные. Тогда соберем в новый датасет только строки, которые:\n",
        "*   содержат только непустые данные;\n",
        "*   не дублируются (хотя для этого датасета дублирование может быть оправданным);\n",
        "*   время поездки > 0."
      ],
      "metadata": {
        "id": "BFe6GSar9Y5l"
      }
    },
    {
      "cell_type": "code",
      "source": [
        "# Новый DataFrame, в котором только полностью заполненные строки\n",
        "uber2 = uber[(uber[\"Street\"] != \"\") & (uber[\"Address\"] != \"\")].reset_index(drop=True)"
      ],
      "metadata": {
        "id": "HDy-V5dj4tl2"
      },
      "execution_count": null,
      "outputs": []
    },
    {
      "cell_type": "code",
      "source": [
        "# Удаление полных дубликатов\n",
        "uber2 = uber2.drop(uber2[uber2.duplicated()].index, axis=\"rows\").reset_index(drop=True)"
      ],
      "metadata": {
        "id": "cMA2Q7wF6Pag"
      },
      "execution_count": null,
      "outputs": []
    },
    {
      "cell_type": "code",
      "source": [
        "# Удаление строк, в которых время поездки = 0\n",
        "uber2 = uber2.drop(uber2[uber2[\"Time\"] == 0].index, axis=0).reset_index(drop=True)"
      ],
      "metadata": {
        "id": "kwN6c-foII-F"
      },
      "execution_count": null,
      "outputs": []
    },
    {
      "cell_type": "code",
      "source": [
        "uber2"
      ],
      "metadata": {
        "colab": {
          "base_uri": "https://localhost:8080/",
          "height": 423
        },
        "id": "bLq6HQOgItFP",
        "outputId": "83b572df-34dc-4670-c9e9-b91f981da14e"
      },
      "execution_count": null,
      "outputs": [
        {
          "output_type": "execute_result",
          "data": {
            "text/plain": [
              "              Date       Time State     PuFrom Address          Street\n",
              "0       2014.07.06  16.000000    NY  MANHATTAN      50       MURRAY ST\n",
              "1       2014.07.04  11.000000    NY  MANHATTAN     143           AVE B\n",
              "2       2014.07.05   6.333333    NY  MANHATTAN     125  CHRISTOPHER ST\n",
              "3       2014.07.06   6.000000    NY  MANHATTAN     217       EAST 7 ST\n",
              "4       2014.07.05   8.333333    NY  MANHATTAN     521      WEST 26 ST\n",
              "...            ...        ...   ...        ...     ...             ...\n",
              "138342  2014.09.29   9.000000    NY  MANHATTAN       9      WEST 57 ST\n",
              "138343  2014.09.29   6.000000    NJ  RIDGEWOOD     756      BELMONT RD\n",
              "138344  2014.09.28   7.000000    NY  MANHATTAN     112      WEST 78 ST\n",
              "138345  2014.09.28  17.000000    NY  MANHATTAN     601      WEST 57 ST\n",
              "138346  2014.09.08  10.333333    NY  MANHATTAN     415      WEST 24 ST\n",
              "\n",
              "[138347 rows x 6 columns]"
            ],
            "text/html": [
              "\n",
              "  <div id=\"df-7bdf19d6-c849-459e-b648-c52d7a8a0f15\" class=\"colab-df-container\">\n",
              "    <div>\n",
              "<style scoped>\n",
              "    .dataframe tbody tr th:only-of-type {\n",
              "        vertical-align: middle;\n",
              "    }\n",
              "\n",
              "    .dataframe tbody tr th {\n",
              "        vertical-align: top;\n",
              "    }\n",
              "\n",
              "    .dataframe thead th {\n",
              "        text-align: right;\n",
              "    }\n",
              "</style>\n",
              "<table border=\"1\" class=\"dataframe\">\n",
              "  <thead>\n",
              "    <tr style=\"text-align: right;\">\n",
              "      <th></th>\n",
              "      <th>Date</th>\n",
              "      <th>Time</th>\n",
              "      <th>State</th>\n",
              "      <th>PuFrom</th>\n",
              "      <th>Address</th>\n",
              "      <th>Street</th>\n",
              "    </tr>\n",
              "  </thead>\n",
              "  <tbody>\n",
              "    <tr>\n",
              "      <th>0</th>\n",
              "      <td>2014.07.06</td>\n",
              "      <td>16.000000</td>\n",
              "      <td>NY</td>\n",
              "      <td>MANHATTAN</td>\n",
              "      <td>50</td>\n",
              "      <td>MURRAY ST</td>\n",
              "    </tr>\n",
              "    <tr>\n",
              "      <th>1</th>\n",
              "      <td>2014.07.04</td>\n",
              "      <td>11.000000</td>\n",
              "      <td>NY</td>\n",
              "      <td>MANHATTAN</td>\n",
              "      <td>143</td>\n",
              "      <td>AVE B</td>\n",
              "    </tr>\n",
              "    <tr>\n",
              "      <th>2</th>\n",
              "      <td>2014.07.05</td>\n",
              "      <td>6.333333</td>\n",
              "      <td>NY</td>\n",
              "      <td>MANHATTAN</td>\n",
              "      <td>125</td>\n",
              "      <td>CHRISTOPHER ST</td>\n",
              "    </tr>\n",
              "    <tr>\n",
              "      <th>3</th>\n",
              "      <td>2014.07.06</td>\n",
              "      <td>6.000000</td>\n",
              "      <td>NY</td>\n",
              "      <td>MANHATTAN</td>\n",
              "      <td>217</td>\n",
              "      <td>EAST 7 ST</td>\n",
              "    </tr>\n",
              "    <tr>\n",
              "      <th>4</th>\n",
              "      <td>2014.07.05</td>\n",
              "      <td>8.333333</td>\n",
              "      <td>NY</td>\n",
              "      <td>MANHATTAN</td>\n",
              "      <td>521</td>\n",
              "      <td>WEST 26 ST</td>\n",
              "    </tr>\n",
              "    <tr>\n",
              "      <th>...</th>\n",
              "      <td>...</td>\n",
              "      <td>...</td>\n",
              "      <td>...</td>\n",
              "      <td>...</td>\n",
              "      <td>...</td>\n",
              "      <td>...</td>\n",
              "    </tr>\n",
              "    <tr>\n",
              "      <th>138342</th>\n",
              "      <td>2014.09.29</td>\n",
              "      <td>9.000000</td>\n",
              "      <td>NY</td>\n",
              "      <td>MANHATTAN</td>\n",
              "      <td>9</td>\n",
              "      <td>WEST 57 ST</td>\n",
              "    </tr>\n",
              "    <tr>\n",
              "      <th>138343</th>\n",
              "      <td>2014.09.29</td>\n",
              "      <td>6.000000</td>\n",
              "      <td>NJ</td>\n",
              "      <td>RIDGEWOOD</td>\n",
              "      <td>756</td>\n",
              "      <td>BELMONT RD</td>\n",
              "    </tr>\n",
              "    <tr>\n",
              "      <th>138344</th>\n",
              "      <td>2014.09.28</td>\n",
              "      <td>7.000000</td>\n",
              "      <td>NY</td>\n",
              "      <td>MANHATTAN</td>\n",
              "      <td>112</td>\n",
              "      <td>WEST 78 ST</td>\n",
              "    </tr>\n",
              "    <tr>\n",
              "      <th>138345</th>\n",
              "      <td>2014.09.28</td>\n",
              "      <td>17.000000</td>\n",
              "      <td>NY</td>\n",
              "      <td>MANHATTAN</td>\n",
              "      <td>601</td>\n",
              "      <td>WEST 57 ST</td>\n",
              "    </tr>\n",
              "    <tr>\n",
              "      <th>138346</th>\n",
              "      <td>2014.09.08</td>\n",
              "      <td>10.333333</td>\n",
              "      <td>NY</td>\n",
              "      <td>MANHATTAN</td>\n",
              "      <td>415</td>\n",
              "      <td>WEST 24 ST</td>\n",
              "    </tr>\n",
              "  </tbody>\n",
              "</table>\n",
              "<p>138347 rows × 6 columns</p>\n",
              "</div>\n",
              "    <div class=\"colab-df-buttons\">\n",
              "\n",
              "  <div class=\"colab-df-container\">\n",
              "    <button class=\"colab-df-convert\" onclick=\"convertToInteractive('df-7bdf19d6-c849-459e-b648-c52d7a8a0f15')\"\n",
              "            title=\"Convert this dataframe to an interactive table.\"\n",
              "            style=\"display:none;\">\n",
              "\n",
              "  <svg xmlns=\"http://www.w3.org/2000/svg\" height=\"24px\" viewBox=\"0 -960 960 960\">\n",
              "    <path d=\"M120-120v-720h720v720H120Zm60-500h600v-160H180v160Zm220 220h160v-160H400v160Zm0 220h160v-160H400v160ZM180-400h160v-160H180v160Zm440 0h160v-160H620v160ZM180-180h160v-160H180v160Zm440 0h160v-160H620v160Z\"/>\n",
              "  </svg>\n",
              "    </button>\n",
              "\n",
              "  <style>\n",
              "    .colab-df-container {\n",
              "      display:flex;\n",
              "      gap: 12px;\n",
              "    }\n",
              "\n",
              "    .colab-df-convert {\n",
              "      background-color: #E8F0FE;\n",
              "      border: none;\n",
              "      border-radius: 50%;\n",
              "      cursor: pointer;\n",
              "      display: none;\n",
              "      fill: #1967D2;\n",
              "      height: 32px;\n",
              "      padding: 0 0 0 0;\n",
              "      width: 32px;\n",
              "    }\n",
              "\n",
              "    .colab-df-convert:hover {\n",
              "      background-color: #E2EBFA;\n",
              "      box-shadow: 0px 1px 2px rgba(60, 64, 67, 0.3), 0px 1px 3px 1px rgba(60, 64, 67, 0.15);\n",
              "      fill: #174EA6;\n",
              "    }\n",
              "\n",
              "    .colab-df-buttons div {\n",
              "      margin-bottom: 4px;\n",
              "    }\n",
              "\n",
              "    [theme=dark] .colab-df-convert {\n",
              "      background-color: #3B4455;\n",
              "      fill: #D2E3FC;\n",
              "    }\n",
              "\n",
              "    [theme=dark] .colab-df-convert:hover {\n",
              "      background-color: #434B5C;\n",
              "      box-shadow: 0px 1px 3px 1px rgba(0, 0, 0, 0.15);\n",
              "      filter: drop-shadow(0px 1px 2px rgba(0, 0, 0, 0.3));\n",
              "      fill: #FFFFFF;\n",
              "    }\n",
              "  </style>\n",
              "\n",
              "    <script>\n",
              "      const buttonEl =\n",
              "        document.querySelector('#df-7bdf19d6-c849-459e-b648-c52d7a8a0f15 button.colab-df-convert');\n",
              "      buttonEl.style.display =\n",
              "        google.colab.kernel.accessAllowed ? 'block' : 'none';\n",
              "\n",
              "      async function convertToInteractive(key) {\n",
              "        const element = document.querySelector('#df-7bdf19d6-c849-459e-b648-c52d7a8a0f15');\n",
              "        const dataTable =\n",
              "          await google.colab.kernel.invokeFunction('convertToInteractive',\n",
              "                                                    [key], {});\n",
              "        if (!dataTable) return;\n",
              "\n",
              "        const docLinkHtml = 'Like what you see? Visit the ' +\n",
              "          '<a target=\"_blank\" href=https://colab.research.google.com/notebooks/data_table.ipynb>data table notebook</a>'\n",
              "          + ' to learn more about interactive tables.';\n",
              "        element.innerHTML = '';\n",
              "        dataTable['output_type'] = 'display_data';\n",
              "        await google.colab.output.renderOutput(dataTable, element);\n",
              "        const docLink = document.createElement('div');\n",
              "        docLink.innerHTML = docLinkHtml;\n",
              "        element.appendChild(docLink);\n",
              "      }\n",
              "    </script>\n",
              "  </div>\n",
              "\n",
              "\n",
              "<div id=\"df-2d7e392d-38f2-41ef-95ba-ee25d0cf1bce\">\n",
              "  <button class=\"colab-df-quickchart\" onclick=\"quickchart('df-2d7e392d-38f2-41ef-95ba-ee25d0cf1bce')\"\n",
              "            title=\"Suggest charts\"\n",
              "            style=\"display:none;\">\n",
              "\n",
              "<svg xmlns=\"http://www.w3.org/2000/svg\" height=\"24px\"viewBox=\"0 0 24 24\"\n",
              "     width=\"24px\">\n",
              "    <g>\n",
              "        <path d=\"M19 3H5c-1.1 0-2 .9-2 2v14c0 1.1.9 2 2 2h14c1.1 0 2-.9 2-2V5c0-1.1-.9-2-2-2zM9 17H7v-7h2v7zm4 0h-2V7h2v10zm4 0h-2v-4h2v4z\"/>\n",
              "    </g>\n",
              "</svg>\n",
              "  </button>\n",
              "\n",
              "<style>\n",
              "  .colab-df-quickchart {\n",
              "      --bg-color: #E8F0FE;\n",
              "      --fill-color: #1967D2;\n",
              "      --hover-bg-color: #E2EBFA;\n",
              "      --hover-fill-color: #174EA6;\n",
              "      --disabled-fill-color: #AAA;\n",
              "      --disabled-bg-color: #DDD;\n",
              "  }\n",
              "\n",
              "  [theme=dark] .colab-df-quickchart {\n",
              "      --bg-color: #3B4455;\n",
              "      --fill-color: #D2E3FC;\n",
              "      --hover-bg-color: #434B5C;\n",
              "      --hover-fill-color: #FFFFFF;\n",
              "      --disabled-bg-color: #3B4455;\n",
              "      --disabled-fill-color: #666;\n",
              "  }\n",
              "\n",
              "  .colab-df-quickchart {\n",
              "    background-color: var(--bg-color);\n",
              "    border: none;\n",
              "    border-radius: 50%;\n",
              "    cursor: pointer;\n",
              "    display: none;\n",
              "    fill: var(--fill-color);\n",
              "    height: 32px;\n",
              "    padding: 0;\n",
              "    width: 32px;\n",
              "  }\n",
              "\n",
              "  .colab-df-quickchart:hover {\n",
              "    background-color: var(--hover-bg-color);\n",
              "    box-shadow: 0 1px 2px rgba(60, 64, 67, 0.3), 0 1px 3px 1px rgba(60, 64, 67, 0.15);\n",
              "    fill: var(--button-hover-fill-color);\n",
              "  }\n",
              "\n",
              "  .colab-df-quickchart-complete:disabled,\n",
              "  .colab-df-quickchart-complete:disabled:hover {\n",
              "    background-color: var(--disabled-bg-color);\n",
              "    fill: var(--disabled-fill-color);\n",
              "    box-shadow: none;\n",
              "  }\n",
              "\n",
              "  .colab-df-spinner {\n",
              "    border: 2px solid var(--fill-color);\n",
              "    border-color: transparent;\n",
              "    border-bottom-color: var(--fill-color);\n",
              "    animation:\n",
              "      spin 1s steps(1) infinite;\n",
              "  }\n",
              "\n",
              "  @keyframes spin {\n",
              "    0% {\n",
              "      border-color: transparent;\n",
              "      border-bottom-color: var(--fill-color);\n",
              "      border-left-color: var(--fill-color);\n",
              "    }\n",
              "    20% {\n",
              "      border-color: transparent;\n",
              "      border-left-color: var(--fill-color);\n",
              "      border-top-color: var(--fill-color);\n",
              "    }\n",
              "    30% {\n",
              "      border-color: transparent;\n",
              "      border-left-color: var(--fill-color);\n",
              "      border-top-color: var(--fill-color);\n",
              "      border-right-color: var(--fill-color);\n",
              "    }\n",
              "    40% {\n",
              "      border-color: transparent;\n",
              "      border-right-color: var(--fill-color);\n",
              "      border-top-color: var(--fill-color);\n",
              "    }\n",
              "    60% {\n",
              "      border-color: transparent;\n",
              "      border-right-color: var(--fill-color);\n",
              "    }\n",
              "    80% {\n",
              "      border-color: transparent;\n",
              "      border-right-color: var(--fill-color);\n",
              "      border-bottom-color: var(--fill-color);\n",
              "    }\n",
              "    90% {\n",
              "      border-color: transparent;\n",
              "      border-bottom-color: var(--fill-color);\n",
              "    }\n",
              "  }\n",
              "</style>\n",
              "\n",
              "  <script>\n",
              "    async function quickchart(key) {\n",
              "      const quickchartButtonEl =\n",
              "        document.querySelector('#' + key + ' button');\n",
              "      quickchartButtonEl.disabled = true;  // To prevent multiple clicks.\n",
              "      quickchartButtonEl.classList.add('colab-df-spinner');\n",
              "      try {\n",
              "        const charts = await google.colab.kernel.invokeFunction(\n",
              "            'suggestCharts', [key], {});\n",
              "      } catch (error) {\n",
              "        console.error('Error during call to suggestCharts:', error);\n",
              "      }\n",
              "      quickchartButtonEl.classList.remove('colab-df-spinner');\n",
              "      quickchartButtonEl.classList.add('colab-df-quickchart-complete');\n",
              "    }\n",
              "    (() => {\n",
              "      let quickchartButtonEl =\n",
              "        document.querySelector('#df-2d7e392d-38f2-41ef-95ba-ee25d0cf1bce button');\n",
              "      quickchartButtonEl.style.display =\n",
              "        google.colab.kernel.accessAllowed ? 'block' : 'none';\n",
              "    })();\n",
              "  </script>\n",
              "</div>\n",
              "    </div>\n",
              "  </div>\n"
            ],
            "application/vnd.google.colaboratory.intrinsic+json": {
              "type": "dataframe",
              "variable_name": "uber2"
            }
          },
          "metadata": {},
          "execution_count": 660
        }
      ]
    }
  ]
}
